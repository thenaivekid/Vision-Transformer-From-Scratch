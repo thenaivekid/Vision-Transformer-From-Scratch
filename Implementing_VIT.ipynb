{
  "nbformat": 4,
  "nbformat_minor": 0,
  "metadata": {
    "colab": {
      "provenance": [],
      "gpuType": "T4",
      "authorship_tag": "ABX9TyNkhtokfu8LfvUgzqVX0XTc",
      "include_colab_link": true
    },
    "kernelspec": {
      "name": "python3",
      "display_name": "Python 3"
    },
    "language_info": {
      "name": "python"
    },
    "accelerator": "GPU",
    "widgets": {
      "application/vnd.jupyter.widget-state+json": {
        "512fa25d04544c24a9ee75e923770dd5": {
          "model_module": "@jupyter-widgets/controls",
          "model_name": "HBoxModel",
          "model_module_version": "1.5.0",
          "state": {
            "_dom_classes": [],
            "_model_module": "@jupyter-widgets/controls",
            "_model_module_version": "1.5.0",
            "_model_name": "HBoxModel",
            "_view_count": null,
            "_view_module": "@jupyter-widgets/controls",
            "_view_module_version": "1.5.0",
            "_view_name": "HBoxView",
            "box_style": "",
            "children": [
              "IPY_MODEL_4698f00f5210433face9ef03e1afe3cf",
              "IPY_MODEL_c571c016cbd84db88340d778fefac49f",
              "IPY_MODEL_40aa852cf9bd434dbc6cb1eb64bb67a1"
            ],
            "layout": "IPY_MODEL_f8d9a433022f4943b2480b6bb13305e5"
          }
        },
        "4698f00f5210433face9ef03e1afe3cf": {
          "model_module": "@jupyter-widgets/controls",
          "model_name": "HTMLModel",
          "model_module_version": "1.5.0",
          "state": {
            "_dom_classes": [],
            "_model_module": "@jupyter-widgets/controls",
            "_model_module_version": "1.5.0",
            "_model_name": "HTMLModel",
            "_view_count": null,
            "_view_module": "@jupyter-widgets/controls",
            "_view_module_version": "1.5.0",
            "_view_name": "HTMLView",
            "description": "",
            "description_tooltip": null,
            "layout": "IPY_MODEL_76e5d05c9d7a45c1859c3286d5b0bb1e",
            "placeholder": "​",
            "style": "IPY_MODEL_4a151ca129e24382ba0da7e50e9b54f5",
            "value": "README.md: 100%"
          }
        },
        "c571c016cbd84db88340d778fefac49f": {
          "model_module": "@jupyter-widgets/controls",
          "model_name": "FloatProgressModel",
          "model_module_version": "1.5.0",
          "state": {
            "_dom_classes": [],
            "_model_module": "@jupyter-widgets/controls",
            "_model_module_version": "1.5.0",
            "_model_name": "FloatProgressModel",
            "_view_count": null,
            "_view_module": "@jupyter-widgets/controls",
            "_view_module_version": "1.5.0",
            "_view_name": "ProgressView",
            "bar_style": "success",
            "description": "",
            "description_tooltip": null,
            "layout": "IPY_MODEL_f82d6bdf3a244d82becb63d44bd32799",
            "max": 6971,
            "min": 0,
            "orientation": "horizontal",
            "style": "IPY_MODEL_10d86e896c434c6f85a7cbfaf55da87a",
            "value": 6971
          }
        },
        "40aa852cf9bd434dbc6cb1eb64bb67a1": {
          "model_module": "@jupyter-widgets/controls",
          "model_name": "HTMLModel",
          "model_module_version": "1.5.0",
          "state": {
            "_dom_classes": [],
            "_model_module": "@jupyter-widgets/controls",
            "_model_module_version": "1.5.0",
            "_model_name": "HTMLModel",
            "_view_count": null,
            "_view_module": "@jupyter-widgets/controls",
            "_view_module_version": "1.5.0",
            "_view_name": "HTMLView",
            "description": "",
            "description_tooltip": null,
            "layout": "IPY_MODEL_61ef9ec664474987816c3309f544ef7c",
            "placeholder": "​",
            "style": "IPY_MODEL_74da050f95b041e580d23ae96d7eaf1c",
            "value": " 6.97k/6.97k [00:00&lt;00:00, 196kB/s]"
          }
        },
        "f8d9a433022f4943b2480b6bb13305e5": {
          "model_module": "@jupyter-widgets/base",
          "model_name": "LayoutModel",
          "model_module_version": "1.2.0",
          "state": {
            "_model_module": "@jupyter-widgets/base",
            "_model_module_version": "1.2.0",
            "_model_name": "LayoutModel",
            "_view_count": null,
            "_view_module": "@jupyter-widgets/base",
            "_view_module_version": "1.2.0",
            "_view_name": "LayoutView",
            "align_content": null,
            "align_items": null,
            "align_self": null,
            "border": null,
            "bottom": null,
            "display": null,
            "flex": null,
            "flex_flow": null,
            "grid_area": null,
            "grid_auto_columns": null,
            "grid_auto_flow": null,
            "grid_auto_rows": null,
            "grid_column": null,
            "grid_gap": null,
            "grid_row": null,
            "grid_template_areas": null,
            "grid_template_columns": null,
            "grid_template_rows": null,
            "height": null,
            "justify_content": null,
            "justify_items": null,
            "left": null,
            "margin": null,
            "max_height": null,
            "max_width": null,
            "min_height": null,
            "min_width": null,
            "object_fit": null,
            "object_position": null,
            "order": null,
            "overflow": null,
            "overflow_x": null,
            "overflow_y": null,
            "padding": null,
            "right": null,
            "top": null,
            "visibility": null,
            "width": null
          }
        },
        "76e5d05c9d7a45c1859c3286d5b0bb1e": {
          "model_module": "@jupyter-widgets/base",
          "model_name": "LayoutModel",
          "model_module_version": "1.2.0",
          "state": {
            "_model_module": "@jupyter-widgets/base",
            "_model_module_version": "1.2.0",
            "_model_name": "LayoutModel",
            "_view_count": null,
            "_view_module": "@jupyter-widgets/base",
            "_view_module_version": "1.2.0",
            "_view_name": "LayoutView",
            "align_content": null,
            "align_items": null,
            "align_self": null,
            "border": null,
            "bottom": null,
            "display": null,
            "flex": null,
            "flex_flow": null,
            "grid_area": null,
            "grid_auto_columns": null,
            "grid_auto_flow": null,
            "grid_auto_rows": null,
            "grid_column": null,
            "grid_gap": null,
            "grid_row": null,
            "grid_template_areas": null,
            "grid_template_columns": null,
            "grid_template_rows": null,
            "height": null,
            "justify_content": null,
            "justify_items": null,
            "left": null,
            "margin": null,
            "max_height": null,
            "max_width": null,
            "min_height": null,
            "min_width": null,
            "object_fit": null,
            "object_position": null,
            "order": null,
            "overflow": null,
            "overflow_x": null,
            "overflow_y": null,
            "padding": null,
            "right": null,
            "top": null,
            "visibility": null,
            "width": null
          }
        },
        "4a151ca129e24382ba0da7e50e9b54f5": {
          "model_module": "@jupyter-widgets/controls",
          "model_name": "DescriptionStyleModel",
          "model_module_version": "1.5.0",
          "state": {
            "_model_module": "@jupyter-widgets/controls",
            "_model_module_version": "1.5.0",
            "_model_name": "DescriptionStyleModel",
            "_view_count": null,
            "_view_module": "@jupyter-widgets/base",
            "_view_module_version": "1.2.0",
            "_view_name": "StyleView",
            "description_width": ""
          }
        },
        "f82d6bdf3a244d82becb63d44bd32799": {
          "model_module": "@jupyter-widgets/base",
          "model_name": "LayoutModel",
          "model_module_version": "1.2.0",
          "state": {
            "_model_module": "@jupyter-widgets/base",
            "_model_module_version": "1.2.0",
            "_model_name": "LayoutModel",
            "_view_count": null,
            "_view_module": "@jupyter-widgets/base",
            "_view_module_version": "1.2.0",
            "_view_name": "LayoutView",
            "align_content": null,
            "align_items": null,
            "align_self": null,
            "border": null,
            "bottom": null,
            "display": null,
            "flex": null,
            "flex_flow": null,
            "grid_area": null,
            "grid_auto_columns": null,
            "grid_auto_flow": null,
            "grid_auto_rows": null,
            "grid_column": null,
            "grid_gap": null,
            "grid_row": null,
            "grid_template_areas": null,
            "grid_template_columns": null,
            "grid_template_rows": null,
            "height": null,
            "justify_content": null,
            "justify_items": null,
            "left": null,
            "margin": null,
            "max_height": null,
            "max_width": null,
            "min_height": null,
            "min_width": null,
            "object_fit": null,
            "object_position": null,
            "order": null,
            "overflow": null,
            "overflow_x": null,
            "overflow_y": null,
            "padding": null,
            "right": null,
            "top": null,
            "visibility": null,
            "width": null
          }
        },
        "10d86e896c434c6f85a7cbfaf55da87a": {
          "model_module": "@jupyter-widgets/controls",
          "model_name": "ProgressStyleModel",
          "model_module_version": "1.5.0",
          "state": {
            "_model_module": "@jupyter-widgets/controls",
            "_model_module_version": "1.5.0",
            "_model_name": "ProgressStyleModel",
            "_view_count": null,
            "_view_module": "@jupyter-widgets/base",
            "_view_module_version": "1.2.0",
            "_view_name": "StyleView",
            "bar_color": null,
            "description_width": ""
          }
        },
        "61ef9ec664474987816c3309f544ef7c": {
          "model_module": "@jupyter-widgets/base",
          "model_name": "LayoutModel",
          "model_module_version": "1.2.0",
          "state": {
            "_model_module": "@jupyter-widgets/base",
            "_model_module_version": "1.2.0",
            "_model_name": "LayoutModel",
            "_view_count": null,
            "_view_module": "@jupyter-widgets/base",
            "_view_module_version": "1.2.0",
            "_view_name": "LayoutView",
            "align_content": null,
            "align_items": null,
            "align_self": null,
            "border": null,
            "bottom": null,
            "display": null,
            "flex": null,
            "flex_flow": null,
            "grid_area": null,
            "grid_auto_columns": null,
            "grid_auto_flow": null,
            "grid_auto_rows": null,
            "grid_column": null,
            "grid_gap": null,
            "grid_row": null,
            "grid_template_areas": null,
            "grid_template_columns": null,
            "grid_template_rows": null,
            "height": null,
            "justify_content": null,
            "justify_items": null,
            "left": null,
            "margin": null,
            "max_height": null,
            "max_width": null,
            "min_height": null,
            "min_width": null,
            "object_fit": null,
            "object_position": null,
            "order": null,
            "overflow": null,
            "overflow_x": null,
            "overflow_y": null,
            "padding": null,
            "right": null,
            "top": null,
            "visibility": null,
            "width": null
          }
        },
        "74da050f95b041e580d23ae96d7eaf1c": {
          "model_module": "@jupyter-widgets/controls",
          "model_name": "DescriptionStyleModel",
          "model_module_version": "1.5.0",
          "state": {
            "_model_module": "@jupyter-widgets/controls",
            "_model_module_version": "1.5.0",
            "_model_name": "DescriptionStyleModel",
            "_view_count": null,
            "_view_module": "@jupyter-widgets/base",
            "_view_module_version": "1.2.0",
            "_view_name": "StyleView",
            "description_width": ""
          }
        },
        "b4765927a711440bb2353044a08037cd": {
          "model_module": "@jupyter-widgets/controls",
          "model_name": "HBoxModel",
          "model_module_version": "1.5.0",
          "state": {
            "_dom_classes": [],
            "_model_module": "@jupyter-widgets/controls",
            "_model_module_version": "1.5.0",
            "_model_name": "HBoxModel",
            "_view_count": null,
            "_view_module": "@jupyter-widgets/controls",
            "_view_module_version": "1.5.0",
            "_view_name": "HBoxView",
            "box_style": "",
            "children": [
              "IPY_MODEL_212bf36cb45c4a9c83521a5e5efbaead",
              "IPY_MODEL_3b9b65a267c24c1da77b2ed891f9fbd8",
              "IPY_MODEL_71a2d9479b454a1691079255898b6562"
            ],
            "layout": "IPY_MODEL_582aa77db39d46bbb676befe3f6bae77"
          }
        },
        "212bf36cb45c4a9c83521a5e5efbaead": {
          "model_module": "@jupyter-widgets/controls",
          "model_name": "HTMLModel",
          "model_module_version": "1.5.0",
          "state": {
            "_dom_classes": [],
            "_model_module": "@jupyter-widgets/controls",
            "_model_module_version": "1.5.0",
            "_model_name": "HTMLModel",
            "_view_count": null,
            "_view_module": "@jupyter-widgets/controls",
            "_view_module_version": "1.5.0",
            "_view_name": "HTMLView",
            "description": "",
            "description_tooltip": null,
            "layout": "IPY_MODEL_d0b9a90b23b7450895ef3753daf9c6d4",
            "placeholder": "​",
            "style": "IPY_MODEL_ba48ffdbfb0648fdb6fd9e4476a47a3e",
            "value": "train-00000-of-00001.parquet: 100%"
          }
        },
        "3b9b65a267c24c1da77b2ed891f9fbd8": {
          "model_module": "@jupyter-widgets/controls",
          "model_name": "FloatProgressModel",
          "model_module_version": "1.5.0",
          "state": {
            "_dom_classes": [],
            "_model_module": "@jupyter-widgets/controls",
            "_model_module_version": "1.5.0",
            "_model_name": "FloatProgressModel",
            "_view_count": null,
            "_view_module": "@jupyter-widgets/controls",
            "_view_module_version": "1.5.0",
            "_view_name": "ProgressView",
            "bar_style": "success",
            "description": "",
            "description_tooltip": null,
            "layout": "IPY_MODEL_0abc3bc3864a4528aaae82698a18420f",
            "max": 15561616,
            "min": 0,
            "orientation": "horizontal",
            "style": "IPY_MODEL_1e5fbc06b0e845da9c60a62422441688",
            "value": 15561616
          }
        },
        "71a2d9479b454a1691079255898b6562": {
          "model_module": "@jupyter-widgets/controls",
          "model_name": "HTMLModel",
          "model_module_version": "1.5.0",
          "state": {
            "_dom_classes": [],
            "_model_module": "@jupyter-widgets/controls",
            "_model_module_version": "1.5.0",
            "_model_name": "HTMLModel",
            "_view_count": null,
            "_view_module": "@jupyter-widgets/controls",
            "_view_module_version": "1.5.0",
            "_view_name": "HTMLView",
            "description": "",
            "description_tooltip": null,
            "layout": "IPY_MODEL_30b3bafc5a7d4ff38f56e7ede122f21c",
            "placeholder": "​",
            "style": "IPY_MODEL_35806686f784478fbdf8d2ceffa2b8a3",
            "value": " 15.6M/15.6M [00:00&lt;00:00, 24.3MB/s]"
          }
        },
        "582aa77db39d46bbb676befe3f6bae77": {
          "model_module": "@jupyter-widgets/base",
          "model_name": "LayoutModel",
          "model_module_version": "1.2.0",
          "state": {
            "_model_module": "@jupyter-widgets/base",
            "_model_module_version": "1.2.0",
            "_model_name": "LayoutModel",
            "_view_count": null,
            "_view_module": "@jupyter-widgets/base",
            "_view_module_version": "1.2.0",
            "_view_name": "LayoutView",
            "align_content": null,
            "align_items": null,
            "align_self": null,
            "border": null,
            "bottom": null,
            "display": null,
            "flex": null,
            "flex_flow": null,
            "grid_area": null,
            "grid_auto_columns": null,
            "grid_auto_flow": null,
            "grid_auto_rows": null,
            "grid_column": null,
            "grid_gap": null,
            "grid_row": null,
            "grid_template_areas": null,
            "grid_template_columns": null,
            "grid_template_rows": null,
            "height": null,
            "justify_content": null,
            "justify_items": null,
            "left": null,
            "margin": null,
            "max_height": null,
            "max_width": null,
            "min_height": null,
            "min_width": null,
            "object_fit": null,
            "object_position": null,
            "order": null,
            "overflow": null,
            "overflow_x": null,
            "overflow_y": null,
            "padding": null,
            "right": null,
            "top": null,
            "visibility": null,
            "width": null
          }
        },
        "d0b9a90b23b7450895ef3753daf9c6d4": {
          "model_module": "@jupyter-widgets/base",
          "model_name": "LayoutModel",
          "model_module_version": "1.2.0",
          "state": {
            "_model_module": "@jupyter-widgets/base",
            "_model_module_version": "1.2.0",
            "_model_name": "LayoutModel",
            "_view_count": null,
            "_view_module": "@jupyter-widgets/base",
            "_view_module_version": "1.2.0",
            "_view_name": "LayoutView",
            "align_content": null,
            "align_items": null,
            "align_self": null,
            "border": null,
            "bottom": null,
            "display": null,
            "flex": null,
            "flex_flow": null,
            "grid_area": null,
            "grid_auto_columns": null,
            "grid_auto_flow": null,
            "grid_auto_rows": null,
            "grid_column": null,
            "grid_gap": null,
            "grid_row": null,
            "grid_template_areas": null,
            "grid_template_columns": null,
            "grid_template_rows": null,
            "height": null,
            "justify_content": null,
            "justify_items": null,
            "left": null,
            "margin": null,
            "max_height": null,
            "max_width": null,
            "min_height": null,
            "min_width": null,
            "object_fit": null,
            "object_position": null,
            "order": null,
            "overflow": null,
            "overflow_x": null,
            "overflow_y": null,
            "padding": null,
            "right": null,
            "top": null,
            "visibility": null,
            "width": null
          }
        },
        "ba48ffdbfb0648fdb6fd9e4476a47a3e": {
          "model_module": "@jupyter-widgets/controls",
          "model_name": "DescriptionStyleModel",
          "model_module_version": "1.5.0",
          "state": {
            "_model_module": "@jupyter-widgets/controls",
            "_model_module_version": "1.5.0",
            "_model_name": "DescriptionStyleModel",
            "_view_count": null,
            "_view_module": "@jupyter-widgets/base",
            "_view_module_version": "1.2.0",
            "_view_name": "StyleView",
            "description_width": ""
          }
        },
        "0abc3bc3864a4528aaae82698a18420f": {
          "model_module": "@jupyter-widgets/base",
          "model_name": "LayoutModel",
          "model_module_version": "1.2.0",
          "state": {
            "_model_module": "@jupyter-widgets/base",
            "_model_module_version": "1.2.0",
            "_model_name": "LayoutModel",
            "_view_count": null,
            "_view_module": "@jupyter-widgets/base",
            "_view_module_version": "1.2.0",
            "_view_name": "LayoutView",
            "align_content": null,
            "align_items": null,
            "align_self": null,
            "border": null,
            "bottom": null,
            "display": null,
            "flex": null,
            "flex_flow": null,
            "grid_area": null,
            "grid_auto_columns": null,
            "grid_auto_flow": null,
            "grid_auto_rows": null,
            "grid_column": null,
            "grid_gap": null,
            "grid_row": null,
            "grid_template_areas": null,
            "grid_template_columns": null,
            "grid_template_rows": null,
            "height": null,
            "justify_content": null,
            "justify_items": null,
            "left": null,
            "margin": null,
            "max_height": null,
            "max_width": null,
            "min_height": null,
            "min_width": null,
            "object_fit": null,
            "object_position": null,
            "order": null,
            "overflow": null,
            "overflow_x": null,
            "overflow_y": null,
            "padding": null,
            "right": null,
            "top": null,
            "visibility": null,
            "width": null
          }
        },
        "1e5fbc06b0e845da9c60a62422441688": {
          "model_module": "@jupyter-widgets/controls",
          "model_name": "ProgressStyleModel",
          "model_module_version": "1.5.0",
          "state": {
            "_model_module": "@jupyter-widgets/controls",
            "_model_module_version": "1.5.0",
            "_model_name": "ProgressStyleModel",
            "_view_count": null,
            "_view_module": "@jupyter-widgets/base",
            "_view_module_version": "1.2.0",
            "_view_name": "StyleView",
            "bar_color": null,
            "description_width": ""
          }
        },
        "30b3bafc5a7d4ff38f56e7ede122f21c": {
          "model_module": "@jupyter-widgets/base",
          "model_name": "LayoutModel",
          "model_module_version": "1.2.0",
          "state": {
            "_model_module": "@jupyter-widgets/base",
            "_model_module_version": "1.2.0",
            "_model_name": "LayoutModel",
            "_view_count": null,
            "_view_module": "@jupyter-widgets/base",
            "_view_module_version": "1.2.0",
            "_view_name": "LayoutView",
            "align_content": null,
            "align_items": null,
            "align_self": null,
            "border": null,
            "bottom": null,
            "display": null,
            "flex": null,
            "flex_flow": null,
            "grid_area": null,
            "grid_auto_columns": null,
            "grid_auto_flow": null,
            "grid_auto_rows": null,
            "grid_column": null,
            "grid_gap": null,
            "grid_row": null,
            "grid_template_areas": null,
            "grid_template_columns": null,
            "grid_template_rows": null,
            "height": null,
            "justify_content": null,
            "justify_items": null,
            "left": null,
            "margin": null,
            "max_height": null,
            "max_width": null,
            "min_height": null,
            "min_width": null,
            "object_fit": null,
            "object_position": null,
            "order": null,
            "overflow": null,
            "overflow_x": null,
            "overflow_y": null,
            "padding": null,
            "right": null,
            "top": null,
            "visibility": null,
            "width": null
          }
        },
        "35806686f784478fbdf8d2ceffa2b8a3": {
          "model_module": "@jupyter-widgets/controls",
          "model_name": "DescriptionStyleModel",
          "model_module_version": "1.5.0",
          "state": {
            "_model_module": "@jupyter-widgets/controls",
            "_model_module_version": "1.5.0",
            "_model_name": "DescriptionStyleModel",
            "_view_count": null,
            "_view_module": "@jupyter-widgets/base",
            "_view_module_version": "1.2.0",
            "_view_name": "StyleView",
            "description_width": ""
          }
        },
        "102fee340365483685a9f4cf23750e17": {
          "model_module": "@jupyter-widgets/controls",
          "model_name": "HBoxModel",
          "model_module_version": "1.5.0",
          "state": {
            "_dom_classes": [],
            "_model_module": "@jupyter-widgets/controls",
            "_model_module_version": "1.5.0",
            "_model_name": "HBoxModel",
            "_view_count": null,
            "_view_module": "@jupyter-widgets/controls",
            "_view_module_version": "1.5.0",
            "_view_name": "HBoxView",
            "box_style": "",
            "children": [
              "IPY_MODEL_1af14a3304514d858ec0d104aa73ad3f",
              "IPY_MODEL_0793618b80474ae3bf4bb2a943014d0b",
              "IPY_MODEL_c84dbdcc63034b4092d7601a3a48bd67"
            ],
            "layout": "IPY_MODEL_6fa98d9fae644defb9ed7dbf9289f5bf"
          }
        },
        "1af14a3304514d858ec0d104aa73ad3f": {
          "model_module": "@jupyter-widgets/controls",
          "model_name": "HTMLModel",
          "model_module_version": "1.5.0",
          "state": {
            "_dom_classes": [],
            "_model_module": "@jupyter-widgets/controls",
            "_model_module_version": "1.5.0",
            "_model_name": "HTMLModel",
            "_view_count": null,
            "_view_module": "@jupyter-widgets/controls",
            "_view_module_version": "1.5.0",
            "_view_name": "HTMLView",
            "description": "",
            "description_tooltip": null,
            "layout": "IPY_MODEL_88fe0d45f712479690bac3dfe0a0c1a4",
            "placeholder": "​",
            "style": "IPY_MODEL_ab9109f3a2c143ada42bbefeb8898cf8",
            "value": "test-00000-of-00001.parquet: 100%"
          }
        },
        "0793618b80474ae3bf4bb2a943014d0b": {
          "model_module": "@jupyter-widgets/controls",
          "model_name": "FloatProgressModel",
          "model_module_version": "1.5.0",
          "state": {
            "_dom_classes": [],
            "_model_module": "@jupyter-widgets/controls",
            "_model_module_version": "1.5.0",
            "_model_name": "FloatProgressModel",
            "_view_count": null,
            "_view_module": "@jupyter-widgets/controls",
            "_view_module_version": "1.5.0",
            "_view_name": "ProgressView",
            "bar_style": "success",
            "description": "",
            "description_tooltip": null,
            "layout": "IPY_MODEL_41c47c75136649ce98521d670c89710c",
            "max": 2595890,
            "min": 0,
            "orientation": "horizontal",
            "style": "IPY_MODEL_252b21a01cfe4f55bf7af876d3732fb1",
            "value": 2595890
          }
        },
        "c84dbdcc63034b4092d7601a3a48bd67": {
          "model_module": "@jupyter-widgets/controls",
          "model_name": "HTMLModel",
          "model_module_version": "1.5.0",
          "state": {
            "_dom_classes": [],
            "_model_module": "@jupyter-widgets/controls",
            "_model_module_version": "1.5.0",
            "_model_name": "HTMLModel",
            "_view_count": null,
            "_view_module": "@jupyter-widgets/controls",
            "_view_module_version": "1.5.0",
            "_view_name": "HTMLView",
            "description": "",
            "description_tooltip": null,
            "layout": "IPY_MODEL_ec679ac26cd846a6b6d7ba361c420518",
            "placeholder": "​",
            "style": "IPY_MODEL_2ed2865adfda4445aa6b3a8087a69443",
            "value": " 2.60M/2.60M [00:00&lt;00:00, 61.1MB/s]"
          }
        },
        "6fa98d9fae644defb9ed7dbf9289f5bf": {
          "model_module": "@jupyter-widgets/base",
          "model_name": "LayoutModel",
          "model_module_version": "1.2.0",
          "state": {
            "_model_module": "@jupyter-widgets/base",
            "_model_module_version": "1.2.0",
            "_model_name": "LayoutModel",
            "_view_count": null,
            "_view_module": "@jupyter-widgets/base",
            "_view_module_version": "1.2.0",
            "_view_name": "LayoutView",
            "align_content": null,
            "align_items": null,
            "align_self": null,
            "border": null,
            "bottom": null,
            "display": null,
            "flex": null,
            "flex_flow": null,
            "grid_area": null,
            "grid_auto_columns": null,
            "grid_auto_flow": null,
            "grid_auto_rows": null,
            "grid_column": null,
            "grid_gap": null,
            "grid_row": null,
            "grid_template_areas": null,
            "grid_template_columns": null,
            "grid_template_rows": null,
            "height": null,
            "justify_content": null,
            "justify_items": null,
            "left": null,
            "margin": null,
            "max_height": null,
            "max_width": null,
            "min_height": null,
            "min_width": null,
            "object_fit": null,
            "object_position": null,
            "order": null,
            "overflow": null,
            "overflow_x": null,
            "overflow_y": null,
            "padding": null,
            "right": null,
            "top": null,
            "visibility": null,
            "width": null
          }
        },
        "88fe0d45f712479690bac3dfe0a0c1a4": {
          "model_module": "@jupyter-widgets/base",
          "model_name": "LayoutModel",
          "model_module_version": "1.2.0",
          "state": {
            "_model_module": "@jupyter-widgets/base",
            "_model_module_version": "1.2.0",
            "_model_name": "LayoutModel",
            "_view_count": null,
            "_view_module": "@jupyter-widgets/base",
            "_view_module_version": "1.2.0",
            "_view_name": "LayoutView",
            "align_content": null,
            "align_items": null,
            "align_self": null,
            "border": null,
            "bottom": null,
            "display": null,
            "flex": null,
            "flex_flow": null,
            "grid_area": null,
            "grid_auto_columns": null,
            "grid_auto_flow": null,
            "grid_auto_rows": null,
            "grid_column": null,
            "grid_gap": null,
            "grid_row": null,
            "grid_template_areas": null,
            "grid_template_columns": null,
            "grid_template_rows": null,
            "height": null,
            "justify_content": null,
            "justify_items": null,
            "left": null,
            "margin": null,
            "max_height": null,
            "max_width": null,
            "min_height": null,
            "min_width": null,
            "object_fit": null,
            "object_position": null,
            "order": null,
            "overflow": null,
            "overflow_x": null,
            "overflow_y": null,
            "padding": null,
            "right": null,
            "top": null,
            "visibility": null,
            "width": null
          }
        },
        "ab9109f3a2c143ada42bbefeb8898cf8": {
          "model_module": "@jupyter-widgets/controls",
          "model_name": "DescriptionStyleModel",
          "model_module_version": "1.5.0",
          "state": {
            "_model_module": "@jupyter-widgets/controls",
            "_model_module_version": "1.5.0",
            "_model_name": "DescriptionStyleModel",
            "_view_count": null,
            "_view_module": "@jupyter-widgets/base",
            "_view_module_version": "1.2.0",
            "_view_name": "StyleView",
            "description_width": ""
          }
        },
        "41c47c75136649ce98521d670c89710c": {
          "model_module": "@jupyter-widgets/base",
          "model_name": "LayoutModel",
          "model_module_version": "1.2.0",
          "state": {
            "_model_module": "@jupyter-widgets/base",
            "_model_module_version": "1.2.0",
            "_model_name": "LayoutModel",
            "_view_count": null,
            "_view_module": "@jupyter-widgets/base",
            "_view_module_version": "1.2.0",
            "_view_name": "LayoutView",
            "align_content": null,
            "align_items": null,
            "align_self": null,
            "border": null,
            "bottom": null,
            "display": null,
            "flex": null,
            "flex_flow": null,
            "grid_area": null,
            "grid_auto_columns": null,
            "grid_auto_flow": null,
            "grid_auto_rows": null,
            "grid_column": null,
            "grid_gap": null,
            "grid_row": null,
            "grid_template_areas": null,
            "grid_template_columns": null,
            "grid_template_rows": null,
            "height": null,
            "justify_content": null,
            "justify_items": null,
            "left": null,
            "margin": null,
            "max_height": null,
            "max_width": null,
            "min_height": null,
            "min_width": null,
            "object_fit": null,
            "object_position": null,
            "order": null,
            "overflow": null,
            "overflow_x": null,
            "overflow_y": null,
            "padding": null,
            "right": null,
            "top": null,
            "visibility": null,
            "width": null
          }
        },
        "252b21a01cfe4f55bf7af876d3732fb1": {
          "model_module": "@jupyter-widgets/controls",
          "model_name": "ProgressStyleModel",
          "model_module_version": "1.5.0",
          "state": {
            "_model_module": "@jupyter-widgets/controls",
            "_model_module_version": "1.5.0",
            "_model_name": "ProgressStyleModel",
            "_view_count": null,
            "_view_module": "@jupyter-widgets/base",
            "_view_module_version": "1.2.0",
            "_view_name": "StyleView",
            "bar_color": null,
            "description_width": ""
          }
        },
        "ec679ac26cd846a6b6d7ba361c420518": {
          "model_module": "@jupyter-widgets/base",
          "model_name": "LayoutModel",
          "model_module_version": "1.2.0",
          "state": {
            "_model_module": "@jupyter-widgets/base",
            "_model_module_version": "1.2.0",
            "_model_name": "LayoutModel",
            "_view_count": null,
            "_view_module": "@jupyter-widgets/base",
            "_view_module_version": "1.2.0",
            "_view_name": "LayoutView",
            "align_content": null,
            "align_items": null,
            "align_self": null,
            "border": null,
            "bottom": null,
            "display": null,
            "flex": null,
            "flex_flow": null,
            "grid_area": null,
            "grid_auto_columns": null,
            "grid_auto_flow": null,
            "grid_auto_rows": null,
            "grid_column": null,
            "grid_gap": null,
            "grid_row": null,
            "grid_template_areas": null,
            "grid_template_columns": null,
            "grid_template_rows": null,
            "height": null,
            "justify_content": null,
            "justify_items": null,
            "left": null,
            "margin": null,
            "max_height": null,
            "max_width": null,
            "min_height": null,
            "min_width": null,
            "object_fit": null,
            "object_position": null,
            "order": null,
            "overflow": null,
            "overflow_x": null,
            "overflow_y": null,
            "padding": null,
            "right": null,
            "top": null,
            "visibility": null,
            "width": null
          }
        },
        "2ed2865adfda4445aa6b3a8087a69443": {
          "model_module": "@jupyter-widgets/controls",
          "model_name": "DescriptionStyleModel",
          "model_module_version": "1.5.0",
          "state": {
            "_model_module": "@jupyter-widgets/controls",
            "_model_module_version": "1.5.0",
            "_model_name": "DescriptionStyleModel",
            "_view_count": null,
            "_view_module": "@jupyter-widgets/base",
            "_view_module_version": "1.2.0",
            "_view_name": "StyleView",
            "description_width": ""
          }
        },
        "b4495462f05a4dba9cf6028c6833515c": {
          "model_module": "@jupyter-widgets/controls",
          "model_name": "HBoxModel",
          "model_module_version": "1.5.0",
          "state": {
            "_dom_classes": [],
            "_model_module": "@jupyter-widgets/controls",
            "_model_module_version": "1.5.0",
            "_model_name": "HBoxModel",
            "_view_count": null,
            "_view_module": "@jupyter-widgets/controls",
            "_view_module_version": "1.5.0",
            "_view_name": "HBoxView",
            "box_style": "",
            "children": [
              "IPY_MODEL_7035ee62be2247bea56c233eee3c9e70",
              "IPY_MODEL_0d68ba4e33a24f6faa433ca6c28e36d0",
              "IPY_MODEL_40ec9ada499445b79f5e343b6126f76b"
            ],
            "layout": "IPY_MODEL_78b6e17635c94e54ad32ffff09ac1a2e"
          }
        },
        "7035ee62be2247bea56c233eee3c9e70": {
          "model_module": "@jupyter-widgets/controls",
          "model_name": "HTMLModel",
          "model_module_version": "1.5.0",
          "state": {
            "_dom_classes": [],
            "_model_module": "@jupyter-widgets/controls",
            "_model_module_version": "1.5.0",
            "_model_name": "HTMLModel",
            "_view_count": null,
            "_view_module": "@jupyter-widgets/controls",
            "_view_module_version": "1.5.0",
            "_view_name": "HTMLView",
            "description": "",
            "description_tooltip": null,
            "layout": "IPY_MODEL_5e3cdc0e2b024d79bf1873008089d08c",
            "placeholder": "​",
            "style": "IPY_MODEL_5c85c15ca99b46359fef21ab8f411929",
            "value": "Generating train split: 100%"
          }
        },
        "0d68ba4e33a24f6faa433ca6c28e36d0": {
          "model_module": "@jupyter-widgets/controls",
          "model_name": "FloatProgressModel",
          "model_module_version": "1.5.0",
          "state": {
            "_dom_classes": [],
            "_model_module": "@jupyter-widgets/controls",
            "_model_module_version": "1.5.0",
            "_model_name": "FloatProgressModel",
            "_view_count": null,
            "_view_module": "@jupyter-widgets/controls",
            "_view_module_version": "1.5.0",
            "_view_name": "ProgressView",
            "bar_style": "success",
            "description": "",
            "description_tooltip": null,
            "layout": "IPY_MODEL_f1bfea085b6f45bfa5d5beb58cff3559",
            "max": 60000,
            "min": 0,
            "orientation": "horizontal",
            "style": "IPY_MODEL_56a2e487ff224fc3abae988d9a27bdb7",
            "value": 60000
          }
        },
        "40ec9ada499445b79f5e343b6126f76b": {
          "model_module": "@jupyter-widgets/controls",
          "model_name": "HTMLModel",
          "model_module_version": "1.5.0",
          "state": {
            "_dom_classes": [],
            "_model_module": "@jupyter-widgets/controls",
            "_model_module_version": "1.5.0",
            "_model_name": "HTMLModel",
            "_view_count": null,
            "_view_module": "@jupyter-widgets/controls",
            "_view_module_version": "1.5.0",
            "_view_name": "HTMLView",
            "description": "",
            "description_tooltip": null,
            "layout": "IPY_MODEL_c3bc9d4575354431adfcd132a91ed9d7",
            "placeholder": "​",
            "style": "IPY_MODEL_1512d0f39060467aa9e3302b06652fad",
            "value": " 60000/60000 [00:00&lt;00:00, 71241.27 examples/s]"
          }
        },
        "78b6e17635c94e54ad32ffff09ac1a2e": {
          "model_module": "@jupyter-widgets/base",
          "model_name": "LayoutModel",
          "model_module_version": "1.2.0",
          "state": {
            "_model_module": "@jupyter-widgets/base",
            "_model_module_version": "1.2.0",
            "_model_name": "LayoutModel",
            "_view_count": null,
            "_view_module": "@jupyter-widgets/base",
            "_view_module_version": "1.2.0",
            "_view_name": "LayoutView",
            "align_content": null,
            "align_items": null,
            "align_self": null,
            "border": null,
            "bottom": null,
            "display": null,
            "flex": null,
            "flex_flow": null,
            "grid_area": null,
            "grid_auto_columns": null,
            "grid_auto_flow": null,
            "grid_auto_rows": null,
            "grid_column": null,
            "grid_gap": null,
            "grid_row": null,
            "grid_template_areas": null,
            "grid_template_columns": null,
            "grid_template_rows": null,
            "height": null,
            "justify_content": null,
            "justify_items": null,
            "left": null,
            "margin": null,
            "max_height": null,
            "max_width": null,
            "min_height": null,
            "min_width": null,
            "object_fit": null,
            "object_position": null,
            "order": null,
            "overflow": null,
            "overflow_x": null,
            "overflow_y": null,
            "padding": null,
            "right": null,
            "top": null,
            "visibility": null,
            "width": null
          }
        },
        "5e3cdc0e2b024d79bf1873008089d08c": {
          "model_module": "@jupyter-widgets/base",
          "model_name": "LayoutModel",
          "model_module_version": "1.2.0",
          "state": {
            "_model_module": "@jupyter-widgets/base",
            "_model_module_version": "1.2.0",
            "_model_name": "LayoutModel",
            "_view_count": null,
            "_view_module": "@jupyter-widgets/base",
            "_view_module_version": "1.2.0",
            "_view_name": "LayoutView",
            "align_content": null,
            "align_items": null,
            "align_self": null,
            "border": null,
            "bottom": null,
            "display": null,
            "flex": null,
            "flex_flow": null,
            "grid_area": null,
            "grid_auto_columns": null,
            "grid_auto_flow": null,
            "grid_auto_rows": null,
            "grid_column": null,
            "grid_gap": null,
            "grid_row": null,
            "grid_template_areas": null,
            "grid_template_columns": null,
            "grid_template_rows": null,
            "height": null,
            "justify_content": null,
            "justify_items": null,
            "left": null,
            "margin": null,
            "max_height": null,
            "max_width": null,
            "min_height": null,
            "min_width": null,
            "object_fit": null,
            "object_position": null,
            "order": null,
            "overflow": null,
            "overflow_x": null,
            "overflow_y": null,
            "padding": null,
            "right": null,
            "top": null,
            "visibility": null,
            "width": null
          }
        },
        "5c85c15ca99b46359fef21ab8f411929": {
          "model_module": "@jupyter-widgets/controls",
          "model_name": "DescriptionStyleModel",
          "model_module_version": "1.5.0",
          "state": {
            "_model_module": "@jupyter-widgets/controls",
            "_model_module_version": "1.5.0",
            "_model_name": "DescriptionStyleModel",
            "_view_count": null,
            "_view_module": "@jupyter-widgets/base",
            "_view_module_version": "1.2.0",
            "_view_name": "StyleView",
            "description_width": ""
          }
        },
        "f1bfea085b6f45bfa5d5beb58cff3559": {
          "model_module": "@jupyter-widgets/base",
          "model_name": "LayoutModel",
          "model_module_version": "1.2.0",
          "state": {
            "_model_module": "@jupyter-widgets/base",
            "_model_module_version": "1.2.0",
            "_model_name": "LayoutModel",
            "_view_count": null,
            "_view_module": "@jupyter-widgets/base",
            "_view_module_version": "1.2.0",
            "_view_name": "LayoutView",
            "align_content": null,
            "align_items": null,
            "align_self": null,
            "border": null,
            "bottom": null,
            "display": null,
            "flex": null,
            "flex_flow": null,
            "grid_area": null,
            "grid_auto_columns": null,
            "grid_auto_flow": null,
            "grid_auto_rows": null,
            "grid_column": null,
            "grid_gap": null,
            "grid_row": null,
            "grid_template_areas": null,
            "grid_template_columns": null,
            "grid_template_rows": null,
            "height": null,
            "justify_content": null,
            "justify_items": null,
            "left": null,
            "margin": null,
            "max_height": null,
            "max_width": null,
            "min_height": null,
            "min_width": null,
            "object_fit": null,
            "object_position": null,
            "order": null,
            "overflow": null,
            "overflow_x": null,
            "overflow_y": null,
            "padding": null,
            "right": null,
            "top": null,
            "visibility": null,
            "width": null
          }
        },
        "56a2e487ff224fc3abae988d9a27bdb7": {
          "model_module": "@jupyter-widgets/controls",
          "model_name": "ProgressStyleModel",
          "model_module_version": "1.5.0",
          "state": {
            "_model_module": "@jupyter-widgets/controls",
            "_model_module_version": "1.5.0",
            "_model_name": "ProgressStyleModel",
            "_view_count": null,
            "_view_module": "@jupyter-widgets/base",
            "_view_module_version": "1.2.0",
            "_view_name": "StyleView",
            "bar_color": null,
            "description_width": ""
          }
        },
        "c3bc9d4575354431adfcd132a91ed9d7": {
          "model_module": "@jupyter-widgets/base",
          "model_name": "LayoutModel",
          "model_module_version": "1.2.0",
          "state": {
            "_model_module": "@jupyter-widgets/base",
            "_model_module_version": "1.2.0",
            "_model_name": "LayoutModel",
            "_view_count": null,
            "_view_module": "@jupyter-widgets/base",
            "_view_module_version": "1.2.0",
            "_view_name": "LayoutView",
            "align_content": null,
            "align_items": null,
            "align_self": null,
            "border": null,
            "bottom": null,
            "display": null,
            "flex": null,
            "flex_flow": null,
            "grid_area": null,
            "grid_auto_columns": null,
            "grid_auto_flow": null,
            "grid_auto_rows": null,
            "grid_column": null,
            "grid_gap": null,
            "grid_row": null,
            "grid_template_areas": null,
            "grid_template_columns": null,
            "grid_template_rows": null,
            "height": null,
            "justify_content": null,
            "justify_items": null,
            "left": null,
            "margin": null,
            "max_height": null,
            "max_width": null,
            "min_height": null,
            "min_width": null,
            "object_fit": null,
            "object_position": null,
            "order": null,
            "overflow": null,
            "overflow_x": null,
            "overflow_y": null,
            "padding": null,
            "right": null,
            "top": null,
            "visibility": null,
            "width": null
          }
        },
        "1512d0f39060467aa9e3302b06652fad": {
          "model_module": "@jupyter-widgets/controls",
          "model_name": "DescriptionStyleModel",
          "model_module_version": "1.5.0",
          "state": {
            "_model_module": "@jupyter-widgets/controls",
            "_model_module_version": "1.5.0",
            "_model_name": "DescriptionStyleModel",
            "_view_count": null,
            "_view_module": "@jupyter-widgets/base",
            "_view_module_version": "1.2.0",
            "_view_name": "StyleView",
            "description_width": ""
          }
        },
        "88c11c91d3f2406c9e9fe903aa22815f": {
          "model_module": "@jupyter-widgets/controls",
          "model_name": "HBoxModel",
          "model_module_version": "1.5.0",
          "state": {
            "_dom_classes": [],
            "_model_module": "@jupyter-widgets/controls",
            "_model_module_version": "1.5.0",
            "_model_name": "HBoxModel",
            "_view_count": null,
            "_view_module": "@jupyter-widgets/controls",
            "_view_module_version": "1.5.0",
            "_view_name": "HBoxView",
            "box_style": "",
            "children": [
              "IPY_MODEL_77bc1795d8004d7397d2ccc32a845acf",
              "IPY_MODEL_76bcdd9722a74bcdb3d74384dd7d9bff",
              "IPY_MODEL_96e800824c8246d0b1e0b85999b20ca4"
            ],
            "layout": "IPY_MODEL_45570fd5e60a4b5c96dca3586c0857d4"
          }
        },
        "77bc1795d8004d7397d2ccc32a845acf": {
          "model_module": "@jupyter-widgets/controls",
          "model_name": "HTMLModel",
          "model_module_version": "1.5.0",
          "state": {
            "_dom_classes": [],
            "_model_module": "@jupyter-widgets/controls",
            "_model_module_version": "1.5.0",
            "_model_name": "HTMLModel",
            "_view_count": null,
            "_view_module": "@jupyter-widgets/controls",
            "_view_module_version": "1.5.0",
            "_view_name": "HTMLView",
            "description": "",
            "description_tooltip": null,
            "layout": "IPY_MODEL_fcca84d151c344f69c4320ad86d1a37e",
            "placeholder": "​",
            "style": "IPY_MODEL_a9e402616b004724820a92828609573b",
            "value": "Generating test split: 100%"
          }
        },
        "76bcdd9722a74bcdb3d74384dd7d9bff": {
          "model_module": "@jupyter-widgets/controls",
          "model_name": "FloatProgressModel",
          "model_module_version": "1.5.0",
          "state": {
            "_dom_classes": [],
            "_model_module": "@jupyter-widgets/controls",
            "_model_module_version": "1.5.0",
            "_model_name": "FloatProgressModel",
            "_view_count": null,
            "_view_module": "@jupyter-widgets/controls",
            "_view_module_version": "1.5.0",
            "_view_name": "ProgressView",
            "bar_style": "success",
            "description": "",
            "description_tooltip": null,
            "layout": "IPY_MODEL_cecf245ad9d842fbb91ba2b30e7166ed",
            "max": 10000,
            "min": 0,
            "orientation": "horizontal",
            "style": "IPY_MODEL_1c17b6c53f304d0bbef51ac0ec745a83",
            "value": 10000
          }
        },
        "96e800824c8246d0b1e0b85999b20ca4": {
          "model_module": "@jupyter-widgets/controls",
          "model_name": "HTMLModel",
          "model_module_version": "1.5.0",
          "state": {
            "_dom_classes": [],
            "_model_module": "@jupyter-widgets/controls",
            "_model_module_version": "1.5.0",
            "_model_name": "HTMLModel",
            "_view_count": null,
            "_view_module": "@jupyter-widgets/controls",
            "_view_module_version": "1.5.0",
            "_view_name": "HTMLView",
            "description": "",
            "description_tooltip": null,
            "layout": "IPY_MODEL_3c5583f18a2c45d4b10c66b52f8ae2c9",
            "placeholder": "​",
            "style": "IPY_MODEL_b2e652e7eecd4b1297679286d9ea05bc",
            "value": " 10000/10000 [00:00&lt;00:00, 25749.12 examples/s]"
          }
        },
        "45570fd5e60a4b5c96dca3586c0857d4": {
          "model_module": "@jupyter-widgets/base",
          "model_name": "LayoutModel",
          "model_module_version": "1.2.0",
          "state": {
            "_model_module": "@jupyter-widgets/base",
            "_model_module_version": "1.2.0",
            "_model_name": "LayoutModel",
            "_view_count": null,
            "_view_module": "@jupyter-widgets/base",
            "_view_module_version": "1.2.0",
            "_view_name": "LayoutView",
            "align_content": null,
            "align_items": null,
            "align_self": null,
            "border": null,
            "bottom": null,
            "display": null,
            "flex": null,
            "flex_flow": null,
            "grid_area": null,
            "grid_auto_columns": null,
            "grid_auto_flow": null,
            "grid_auto_rows": null,
            "grid_column": null,
            "grid_gap": null,
            "grid_row": null,
            "grid_template_areas": null,
            "grid_template_columns": null,
            "grid_template_rows": null,
            "height": null,
            "justify_content": null,
            "justify_items": null,
            "left": null,
            "margin": null,
            "max_height": null,
            "max_width": null,
            "min_height": null,
            "min_width": null,
            "object_fit": null,
            "object_position": null,
            "order": null,
            "overflow": null,
            "overflow_x": null,
            "overflow_y": null,
            "padding": null,
            "right": null,
            "top": null,
            "visibility": null,
            "width": null
          }
        },
        "fcca84d151c344f69c4320ad86d1a37e": {
          "model_module": "@jupyter-widgets/base",
          "model_name": "LayoutModel",
          "model_module_version": "1.2.0",
          "state": {
            "_model_module": "@jupyter-widgets/base",
            "_model_module_version": "1.2.0",
            "_model_name": "LayoutModel",
            "_view_count": null,
            "_view_module": "@jupyter-widgets/base",
            "_view_module_version": "1.2.0",
            "_view_name": "LayoutView",
            "align_content": null,
            "align_items": null,
            "align_self": null,
            "border": null,
            "bottom": null,
            "display": null,
            "flex": null,
            "flex_flow": null,
            "grid_area": null,
            "grid_auto_columns": null,
            "grid_auto_flow": null,
            "grid_auto_rows": null,
            "grid_column": null,
            "grid_gap": null,
            "grid_row": null,
            "grid_template_areas": null,
            "grid_template_columns": null,
            "grid_template_rows": null,
            "height": null,
            "justify_content": null,
            "justify_items": null,
            "left": null,
            "margin": null,
            "max_height": null,
            "max_width": null,
            "min_height": null,
            "min_width": null,
            "object_fit": null,
            "object_position": null,
            "order": null,
            "overflow": null,
            "overflow_x": null,
            "overflow_y": null,
            "padding": null,
            "right": null,
            "top": null,
            "visibility": null,
            "width": null
          }
        },
        "a9e402616b004724820a92828609573b": {
          "model_module": "@jupyter-widgets/controls",
          "model_name": "DescriptionStyleModel",
          "model_module_version": "1.5.0",
          "state": {
            "_model_module": "@jupyter-widgets/controls",
            "_model_module_version": "1.5.0",
            "_model_name": "DescriptionStyleModel",
            "_view_count": null,
            "_view_module": "@jupyter-widgets/base",
            "_view_module_version": "1.2.0",
            "_view_name": "StyleView",
            "description_width": ""
          }
        },
        "cecf245ad9d842fbb91ba2b30e7166ed": {
          "model_module": "@jupyter-widgets/base",
          "model_name": "LayoutModel",
          "model_module_version": "1.2.0",
          "state": {
            "_model_module": "@jupyter-widgets/base",
            "_model_module_version": "1.2.0",
            "_model_name": "LayoutModel",
            "_view_count": null,
            "_view_module": "@jupyter-widgets/base",
            "_view_module_version": "1.2.0",
            "_view_name": "LayoutView",
            "align_content": null,
            "align_items": null,
            "align_self": null,
            "border": null,
            "bottom": null,
            "display": null,
            "flex": null,
            "flex_flow": null,
            "grid_area": null,
            "grid_auto_columns": null,
            "grid_auto_flow": null,
            "grid_auto_rows": null,
            "grid_column": null,
            "grid_gap": null,
            "grid_row": null,
            "grid_template_areas": null,
            "grid_template_columns": null,
            "grid_template_rows": null,
            "height": null,
            "justify_content": null,
            "justify_items": null,
            "left": null,
            "margin": null,
            "max_height": null,
            "max_width": null,
            "min_height": null,
            "min_width": null,
            "object_fit": null,
            "object_position": null,
            "order": null,
            "overflow": null,
            "overflow_x": null,
            "overflow_y": null,
            "padding": null,
            "right": null,
            "top": null,
            "visibility": null,
            "width": null
          }
        },
        "1c17b6c53f304d0bbef51ac0ec745a83": {
          "model_module": "@jupyter-widgets/controls",
          "model_name": "ProgressStyleModel",
          "model_module_version": "1.5.0",
          "state": {
            "_model_module": "@jupyter-widgets/controls",
            "_model_module_version": "1.5.0",
            "_model_name": "ProgressStyleModel",
            "_view_count": null,
            "_view_module": "@jupyter-widgets/base",
            "_view_module_version": "1.2.0",
            "_view_name": "StyleView",
            "bar_color": null,
            "description_width": ""
          }
        },
        "3c5583f18a2c45d4b10c66b52f8ae2c9": {
          "model_module": "@jupyter-widgets/base",
          "model_name": "LayoutModel",
          "model_module_version": "1.2.0",
          "state": {
            "_model_module": "@jupyter-widgets/base",
            "_model_module_version": "1.2.0",
            "_model_name": "LayoutModel",
            "_view_count": null,
            "_view_module": "@jupyter-widgets/base",
            "_view_module_version": "1.2.0",
            "_view_name": "LayoutView",
            "align_content": null,
            "align_items": null,
            "align_self": null,
            "border": null,
            "bottom": null,
            "display": null,
            "flex": null,
            "flex_flow": null,
            "grid_area": null,
            "grid_auto_columns": null,
            "grid_auto_flow": null,
            "grid_auto_rows": null,
            "grid_column": null,
            "grid_gap": null,
            "grid_row": null,
            "grid_template_areas": null,
            "grid_template_columns": null,
            "grid_template_rows": null,
            "height": null,
            "justify_content": null,
            "justify_items": null,
            "left": null,
            "margin": null,
            "max_height": null,
            "max_width": null,
            "min_height": null,
            "min_width": null,
            "object_fit": null,
            "object_position": null,
            "order": null,
            "overflow": null,
            "overflow_x": null,
            "overflow_y": null,
            "padding": null,
            "right": null,
            "top": null,
            "visibility": null,
            "width": null
          }
        },
        "b2e652e7eecd4b1297679286d9ea05bc": {
          "model_module": "@jupyter-widgets/controls",
          "model_name": "DescriptionStyleModel",
          "model_module_version": "1.5.0",
          "state": {
            "_model_module": "@jupyter-widgets/controls",
            "_model_module_version": "1.5.0",
            "_model_name": "DescriptionStyleModel",
            "_view_count": null,
            "_view_module": "@jupyter-widgets/base",
            "_view_module_version": "1.2.0",
            "_view_name": "StyleView",
            "description_width": ""
          }
        }
      }
    }
  },
  "cells": [
    {
      "cell_type": "markdown",
      "metadata": {
        "id": "view-in-github",
        "colab_type": "text"
      },
      "source": [
        "<a href=\"https://colab.research.google.com/github/thenaivekid/Vision-Transformer-From-Scratch/blob/main/Implementing_VIT.ipynb\" target=\"_parent\"><img src=\"https://colab.research.google.com/assets/colab-badge.svg\" alt=\"Open In Colab\"/></a>"
      ]
    },
    {
      "cell_type": "markdown",
      "source": [
        "# Todo\n",
        "## do it in mnist digits dataset\n",
        "- [x] load dataset\n",
        "- [x] implement paper in code.\n",
        "- [ ] train from scratch for a few epochs supervised(training)\n",
        "- [ ] viz loss and gradients to see if the training is approaching a minima or not\n",
        "- [ ] viz learned positional embedding\n",
        "- [ ] viz attn map for few images\n",
        "- [ ] load weights from pretrained\n",
        "- [ ] finetune for 2 class classification. (2 class plus 1 unknown)\n",
        "- [ ] viz clustering effect of vit in 2 classes\n",
        "- [ ] do everything by doing self supervised training. mae, jepa(optional)\n",
        "- [ ] distill this in smaller model\n",
        "- [ ] use synthetic data to make it better\n",
        "\n"
      ],
      "metadata": {
        "id": "FrnbGd2CSEV5"
      }
    },
    {
      "cell_type": "markdown",
      "source": [
        "# Loading MNIST digit dataset\n",
        "\n",
        "https://huggingface.co/datasets/ylecun/mnist"
      ],
      "metadata": {
        "id": "u6t_a-dpnad0"
      }
    },
    {
      "cell_type": "code",
      "source": [
        "!pip install -q datasets"
      ],
      "metadata": {
        "id": "WzSbTSs_oxGd",
        "colab": {
          "base_uri": "https://localhost:8080/"
        },
        "outputId": "3f5cb9ce-d073-4655-d980-67d1081be5d2"
      },
      "execution_count": null,
      "outputs": [
        {
          "output_type": "stream",
          "name": "stdout",
          "text": [
            "\u001b[?25l   \u001b[90m━━━━━━━━━━━━━━━━━━━━━━━━━━━━━━━━━━━━━━━━\u001b[0m \u001b[32m0.0/480.6 kB\u001b[0m \u001b[31m?\u001b[0m eta \u001b[36m-:--:--\u001b[0m\r\u001b[2K   \u001b[90m━━━━━━━━━━━━━━━━━━━━━━━━━━━━━━━━━━━━━━━━\u001b[0m \u001b[32m480.6/480.6 kB\u001b[0m \u001b[31m16.4 MB/s\u001b[0m eta \u001b[36m0:00:00\u001b[0m\n",
            "\u001b[?25h\u001b[?25l   \u001b[90m━━━━━━━━━━━━━━━━━━━━━━━━━━━━━━━━━━━━━━━━\u001b[0m \u001b[32m0.0/116.3 kB\u001b[0m \u001b[31m?\u001b[0m eta \u001b[36m-:--:--\u001b[0m\r\u001b[2K   \u001b[90m━━━━━━━━━━━━━━━━━━━━━━━━━━━━━━━━━━━━━━━━\u001b[0m \u001b[32m116.3/116.3 kB\u001b[0m \u001b[31m11.8 MB/s\u001b[0m eta \u001b[36m0:00:00\u001b[0m\n",
            "\u001b[?25h\u001b[?25l   \u001b[90m━━━━━━━━━━━━━━━━━━━━━━━━━━━━━━━━━━━━━━━━\u001b[0m \u001b[32m0.0/179.3 kB\u001b[0m \u001b[31m?\u001b[0m eta \u001b[36m-:--:--\u001b[0m\r\u001b[2K   \u001b[90m━━━━━━━━━━━━━━━━━━━━━━━━━━━━━━━━━━━━━━━━\u001b[0m \u001b[32m179.3/179.3 kB\u001b[0m \u001b[31m18.4 MB/s\u001b[0m eta \u001b[36m0:00:00\u001b[0m\n",
            "\u001b[?25h\u001b[?25l   \u001b[90m━━━━━━━━━━━━━━━━━━━━━━━━━━━━━━━━━━━━━━━━\u001b[0m \u001b[32m0.0/134.8 kB\u001b[0m \u001b[31m?\u001b[0m eta \u001b[36m-:--:--\u001b[0m\r\u001b[2K   \u001b[90m━━━━━━━━━━━━━━━━━━━━━━━━━━━━━━━━━━━━━━━━\u001b[0m \u001b[32m134.8/134.8 kB\u001b[0m \u001b[31m14.6 MB/s\u001b[0m eta \u001b[36m0:00:00\u001b[0m\n",
            "\u001b[?25h\u001b[?25l   \u001b[90m━━━━━━━━━━━━━━━━━━━━━━━━━━━━━━━━━━━━━━━━\u001b[0m \u001b[32m0.0/194.1 kB\u001b[0m \u001b[31m?\u001b[0m eta \u001b[36m-:--:--\u001b[0m\r\u001b[2K   \u001b[90m━━━━━━━━━━━━━━━━━━━━━━━━━━━━━━━━━━━━━━━━\u001b[0m \u001b[32m194.1/194.1 kB\u001b[0m \u001b[31m20.5 MB/s\u001b[0m eta \u001b[36m0:00:00\u001b[0m\n",
            "\u001b[?25h\u001b[31mERROR: pip's dependency resolver does not currently take into account all the packages that are installed. This behaviour is the source of the following dependency conflicts.\n",
            "gcsfs 2024.10.0 requires fsspec==2024.10.0, but you have fsspec 2024.9.0 which is incompatible.\u001b[0m\u001b[31m\n",
            "\u001b[0m"
          ]
        }
      ]
    },
    {
      "cell_type": "code",
      "source": [
        "from datasets import load_dataset\n",
        "\n",
        "ds = load_dataset(\"ylecun/mnist\")\n",
        "ds"
      ],
      "metadata": {
        "colab": {
          "base_uri": "https://localhost:8080/",
          "height": 475,
          "referenced_widgets": [
            "512fa25d04544c24a9ee75e923770dd5",
            "4698f00f5210433face9ef03e1afe3cf",
            "c571c016cbd84db88340d778fefac49f",
            "40aa852cf9bd434dbc6cb1eb64bb67a1",
            "f8d9a433022f4943b2480b6bb13305e5",
            "76e5d05c9d7a45c1859c3286d5b0bb1e",
            "4a151ca129e24382ba0da7e50e9b54f5",
            "f82d6bdf3a244d82becb63d44bd32799",
            "10d86e896c434c6f85a7cbfaf55da87a",
            "61ef9ec664474987816c3309f544ef7c",
            "74da050f95b041e580d23ae96d7eaf1c",
            "b4765927a711440bb2353044a08037cd",
            "212bf36cb45c4a9c83521a5e5efbaead",
            "3b9b65a267c24c1da77b2ed891f9fbd8",
            "71a2d9479b454a1691079255898b6562",
            "582aa77db39d46bbb676befe3f6bae77",
            "d0b9a90b23b7450895ef3753daf9c6d4",
            "ba48ffdbfb0648fdb6fd9e4476a47a3e",
            "0abc3bc3864a4528aaae82698a18420f",
            "1e5fbc06b0e845da9c60a62422441688",
            "30b3bafc5a7d4ff38f56e7ede122f21c",
            "35806686f784478fbdf8d2ceffa2b8a3",
            "102fee340365483685a9f4cf23750e17",
            "1af14a3304514d858ec0d104aa73ad3f",
            "0793618b80474ae3bf4bb2a943014d0b",
            "c84dbdcc63034b4092d7601a3a48bd67",
            "6fa98d9fae644defb9ed7dbf9289f5bf",
            "88fe0d45f712479690bac3dfe0a0c1a4",
            "ab9109f3a2c143ada42bbefeb8898cf8",
            "41c47c75136649ce98521d670c89710c",
            "252b21a01cfe4f55bf7af876d3732fb1",
            "ec679ac26cd846a6b6d7ba361c420518",
            "2ed2865adfda4445aa6b3a8087a69443",
            "b4495462f05a4dba9cf6028c6833515c",
            "7035ee62be2247bea56c233eee3c9e70",
            "0d68ba4e33a24f6faa433ca6c28e36d0",
            "40ec9ada499445b79f5e343b6126f76b",
            "78b6e17635c94e54ad32ffff09ac1a2e",
            "5e3cdc0e2b024d79bf1873008089d08c",
            "5c85c15ca99b46359fef21ab8f411929",
            "f1bfea085b6f45bfa5d5beb58cff3559",
            "56a2e487ff224fc3abae988d9a27bdb7",
            "c3bc9d4575354431adfcd132a91ed9d7",
            "1512d0f39060467aa9e3302b06652fad",
            "88c11c91d3f2406c9e9fe903aa22815f",
            "77bc1795d8004d7397d2ccc32a845acf",
            "76bcdd9722a74bcdb3d74384dd7d9bff",
            "96e800824c8246d0b1e0b85999b20ca4",
            "45570fd5e60a4b5c96dca3586c0857d4",
            "fcca84d151c344f69c4320ad86d1a37e",
            "a9e402616b004724820a92828609573b",
            "cecf245ad9d842fbb91ba2b30e7166ed",
            "1c17b6c53f304d0bbef51ac0ec745a83",
            "3c5583f18a2c45d4b10c66b52f8ae2c9",
            "b2e652e7eecd4b1297679286d9ea05bc"
          ]
        },
        "id": "N3he2kP-nfSL",
        "outputId": "e8016e30-bf89-41fc-9589-aefc6325b14e"
      },
      "execution_count": null,
      "outputs": [
        {
          "output_type": "stream",
          "name": "stderr",
          "text": [
            "/usr/local/lib/python3.10/dist-packages/huggingface_hub/utils/_auth.py:94: UserWarning: \n",
            "The secret `HF_TOKEN` does not exist in your Colab secrets.\n",
            "To authenticate with the Hugging Face Hub, create a token in your settings tab (https://huggingface.co/settings/tokens), set it as secret in your Google Colab and restart your session.\n",
            "You will be able to reuse this secret in all of your notebooks.\n",
            "Please note that authentication is recommended but still optional to access public models or datasets.\n",
            "  warnings.warn(\n"
          ]
        },
        {
          "output_type": "display_data",
          "data": {
            "text/plain": [
              "README.md:   0%|          | 0.00/6.97k [00:00<?, ?B/s]"
            ],
            "application/vnd.jupyter.widget-view+json": {
              "version_major": 2,
              "version_minor": 0,
              "model_id": "512fa25d04544c24a9ee75e923770dd5"
            }
          },
          "metadata": {}
        },
        {
          "output_type": "display_data",
          "data": {
            "text/plain": [
              "train-00000-of-00001.parquet:   0%|          | 0.00/15.6M [00:00<?, ?B/s]"
            ],
            "application/vnd.jupyter.widget-view+json": {
              "version_major": 2,
              "version_minor": 0,
              "model_id": "b4765927a711440bb2353044a08037cd"
            }
          },
          "metadata": {}
        },
        {
          "output_type": "display_data",
          "data": {
            "text/plain": [
              "test-00000-of-00001.parquet:   0%|          | 0.00/2.60M [00:00<?, ?B/s]"
            ],
            "application/vnd.jupyter.widget-view+json": {
              "version_major": 2,
              "version_minor": 0,
              "model_id": "102fee340365483685a9f4cf23750e17"
            }
          },
          "metadata": {}
        },
        {
          "output_type": "display_data",
          "data": {
            "text/plain": [
              "Generating train split:   0%|          | 0/60000 [00:00<?, ? examples/s]"
            ],
            "application/vnd.jupyter.widget-view+json": {
              "version_major": 2,
              "version_minor": 0,
              "model_id": "b4495462f05a4dba9cf6028c6833515c"
            }
          },
          "metadata": {}
        },
        {
          "output_type": "display_data",
          "data": {
            "text/plain": [
              "Generating test split:   0%|          | 0/10000 [00:00<?, ? examples/s]"
            ],
            "application/vnd.jupyter.widget-view+json": {
              "version_major": 2,
              "version_minor": 0,
              "model_id": "88c11c91d3f2406c9e9fe903aa22815f"
            }
          },
          "metadata": {}
        },
        {
          "output_type": "execute_result",
          "data": {
            "text/plain": [
              "DatasetDict({\n",
              "    train: Dataset({\n",
              "        features: ['image', 'label'],\n",
              "        num_rows: 60000\n",
              "    })\n",
              "    test: Dataset({\n",
              "        features: ['image', 'label'],\n",
              "        num_rows: 10000\n",
              "    })\n",
              "})"
            ]
          },
          "metadata": {},
          "execution_count": 2
        }
      ]
    },
    {
      "cell_type": "code",
      "source": [
        "from torch.utils.data import DataLoader\n",
        "import torch\n",
        "from torchvision import transforms\n",
        "\n",
        "to_tensor = transforms.ToTensor()\n",
        "def transform(batch):\n",
        "  batch[\"image\"] = [(to_tensor(img)) for img in batch[\"image\"]]\n",
        "  return batch\n",
        "\n",
        "ds.set_transform(transform) # it does the transformation when loading the data later during training and testing\n",
        "# ds.map(transform, batched = True)# it transforms the whole dataset upfront. takes too long"
      ],
      "metadata": {
        "id": "FkQBWQqC0lMm"
      },
      "execution_count": null,
      "outputs": []
    },
    {
      "cell_type": "code",
      "source": [
        "split_ds = ds[\"train\"].train_test_split(test_size=0.1, shuffle=True, seed=42)\n",
        "train_ds = split_ds[\"train\"]\n",
        "val_ds = split_ds[\"test\"]\n",
        "test_ds = ds[\"test\"]"
      ],
      "metadata": {
        "id": "wm602hY-zpvV"
      },
      "execution_count": null,
      "outputs": []
    },
    {
      "cell_type": "code",
      "source": [
        "one_data = next(iter(ds[\"train\"]))\n",
        "print(one_data[\"label\"])\n",
        "print(one_data[\"image\"].shape)\n",
        "print(type(one_data[\"image\"]))\n"
      ],
      "metadata": {
        "colab": {
          "base_uri": "https://localhost:8080/"
        },
        "id": "NUQqFhYFtjrD",
        "outputId": "a797036d-77bf-4bab-db06-f49985a50705"
      },
      "execution_count": null,
      "outputs": [
        {
          "output_type": "stream",
          "name": "stdout",
          "text": [
            "5\n",
            "torch.Size([1, 28, 28])\n",
            "<class 'torch.Tensor'>\n"
          ]
        }
      ]
    },
    {
      "cell_type": "code",
      "source": [
        "BATCH_SIZE = 64"
      ],
      "metadata": {
        "id": "16kWLFDnxzuA"
      },
      "execution_count": null,
      "outputs": []
    },
    {
      "cell_type": "code",
      "source": [
        "train_loader = DataLoader(train_ds, batch_size=BATCH_SIZE, shuffle=True)\n",
        "val_loader = DataLoader(val_ds, batch_size=BATCH_SIZE)\n",
        "test_loader = DataLoader(test_ds, batch_size=BATCH_SIZE)"
      ],
      "metadata": {
        "id": "l_VfV811xdkB"
      },
      "execution_count": null,
      "outputs": []
    },
    {
      "cell_type": "code",
      "source": [
        "one_image = next(iter(train_loader))[\"image\"][0]\n",
        "print(one_image.shape)"
      ],
      "metadata": {
        "colab": {
          "base_uri": "https://localhost:8080/"
        },
        "id": "CCKXZ9en04jm",
        "outputId": "0a40bdb5-d345-459d-b48c-a3bd1be72b85"
      },
      "execution_count": null,
      "outputs": [
        {
          "output_type": "stream",
          "name": "stdout",
          "text": [
            "torch.Size([1, 28, 28])\n"
          ]
        }
      ]
    },
    {
      "cell_type": "markdown",
      "source": [
        "# Vision Transformer implementation\n",
        "src: http://arxiv.org/abs/2010.11929\n",
        "##An Image is Worth 16x16 Words\n",
        "https://github.com/google-research/vision_transformer"
      ],
      "metadata": {
        "id": "EASM_DLAmGQa"
      }
    },
    {
      "cell_type": "code",
      "source": [
        "P = 4 #patch size\n",
        "C = 1\n",
        "H = 28\n",
        "W = 28\n",
        "N = int(H * W / P**2)\n",
        "print(f\"Number of patches: {N}, patch size: {P}\")"
      ],
      "metadata": {
        "colab": {
          "base_uri": "https://localhost:8080/"
        },
        "id": "JaANZJCDYZnd",
        "outputId": "5a7e9cd9-8406-4a25-dc96-bd206191028f"
      },
      "execution_count": null,
      "outputs": [
        {
          "output_type": "stream",
          "name": "stdout",
          "text": [
            "Number of patches: 49, patch size: 4\n"
          ]
        }
      ]
    },
    {
      "cell_type": "code",
      "source": [
        "from torch import nn\n",
        "\n",
        "class MakePatches(nn.Module):\n",
        "  def __init__(self, patch_size=P):\n",
        "    super().__init__()\n",
        "    self.patch_size = patch_size\n",
        "    self.unfold = nn.Unfold(kernel_size=patch_size, stride=patch_size)\n",
        "\n",
        "  def forward(self, x):\n",
        "    b, c, h, w = x.shape\n",
        "    x = self.unfold(x)#B,(c*p*p), n.   n = no .f patches\n",
        "    # x = x.view(b, c, self.patch_size, self.patch_size, -1).permute(0, 4, 1, 2, 3)#b,n,c,p,p\n",
        "    x = x.view(b, -1, C*P*P)\n",
        "    return x\n",
        "\n",
        "  def viz(self, x):\n",
        "    b, c, h, w = x.shape\n",
        "    x = self.unfold(x)#B,(c*p*p), n.   n = no .f patches\n",
        "    x = x.view(b, c, self.patch_size, self.patch_size, -1).permute(0, 4, 1, 2, 3)#b,n,c,p,p\n",
        "    return x\n",
        "\n"
      ],
      "metadata": {
        "id": "Fu799LRb4mzd"
      },
      "execution_count": null,
      "outputs": []
    },
    {
      "cell_type": "code",
      "source": [
        "import matplotlib.pyplot as plt\n",
        "patch_maker = MakePatches(patch_size=7)\n",
        "\n",
        "batch = next(iter(train_loader))\n",
        "images, labels = batch[\"image\"], batch[\"label\"]\n",
        "\n",
        "\n",
        "patches = patch_maker.viz(images)\n",
        "\n",
        "\n",
        "first_image_patches = patches[0]\n",
        "\n",
        "\n",
        "def show_patches(patches, n_rows=4, n_cols=4):\n",
        "    fig, axes = plt.subplots(n_rows, n_cols, figsize=(5, 5))\n",
        "\n",
        "    for idx, patch in enumerate(first_image_patches):\n",
        "        row, col = divmod(idx, n_rows)\n",
        "        axes[row, col].imshow(patch.permute(1, 2, 0), cmap=\"gray\")  # Rearrange (C, H, W) -> (H, W, C)\n",
        "        axes[row, col].axis(\"off\")\n",
        "\n",
        "    plt.tight_layout()\n",
        "    plt.show()\n",
        "\n",
        "show_patches(first_image_patches)"
      ],
      "metadata": {
        "colab": {
          "base_uri": "https://localhost:8080/",
          "height": 507
        },
        "id": "0V8ZiIBXUXG0",
        "outputId": "91148684-164c-46d3-8b10-a3eecc03a4fb"
      },
      "execution_count": null,
      "outputs": [
        {
          "output_type": "display_data",
          "data": {
            "text/plain": [
              "<Figure size 500x500 with 16 Axes>"
            ],
            "image/png": "[encoded data removed]"
          },
          "metadata": {}
        }
      ]
    },
    {
      "cell_type": "markdown",
      "source": [
        "https://github.com/karpathy/nanoGPT"
      ],
      "metadata": {
        "id": "IST3_D1E_E3G"
      }
    },
    {
      "cell_type": "code",
      "source": [
        "class LayerNorm(nn.Module):\n",
        "  \"\"\"We are creating our own custom layernorm because pytorch's implementation does not allow use to do bias=False\"\"\"\n",
        "  def __init__(self, ndim, bias=False):\n",
        "    super().__init__()\n",
        "    self.weight = nn.Parameter(torch.ones(ndim))\n",
        "    self.bias = nn.Parameter(torch.zeros(ndim)) if bias else None\n",
        "\n",
        "  def forward(self, x):\n",
        "    return nn.functional.layer_norm(x,self.weight.shape, self.weight, self.bias, 1e-5)\n",
        "\n",
        "\n",
        "# norm = LayerNorm(16)\n",
        "# norm(torch.rand((64, 32, 16))).shape"
      ],
      "metadata": {
        "id": "G8J-9M29fveQ"
      },
      "execution_count": null,
      "outputs": []
    },
    {
      "cell_type": "markdown",
      "source": [
        "in multihead attention, we project the input to have 3 times the input dims(channel),\n",
        "split to k, q, v\n",
        "then divide channel to all the heads, so each k q v act in a subset of channels. then we aggregate\n"
      ],
      "metadata": {
        "id": "Rdjyye8rrFC-"
      }
    },
    {
      "cell_type": "code",
      "source": [
        "class MultiHeadSelfAttention(nn.Module):\n",
        "  def __init__(self, n_heads, n_embd, dropout=0.2, bias=False):\n",
        "    super().__init__()\n",
        "    assert n_embd % n_heads == 0\n",
        "    self.n_heads = n_heads\n",
        "    self.n_embd = n_embd\n",
        "    self.dropout = dropout\n",
        "    self.bias = bias\n",
        "    self.c_attn = nn.Linear(n_embd, 3*n_embd, bias=bias)\n",
        "    self.c_proj = nn.Linear(n_embd, n_embd, bias=bias)\n",
        "    self.resid_dropout = nn.Dropout(dropout)\n",
        "\n",
        "  def forward(self, x, mask=None, is_causal=False):\n",
        "    B, T, C = x.shape\n",
        "    k, q, v = self.c_attn(x).split(self.n_embd, dim=2)\n",
        "    k = k.view(B, T, self.n_heads, C//self.n_heads).transpose(1,2)# (B, nh, T, hs); hs= head size = no of channels in each head; nh=number of head\n",
        "    q = q.view(B, T, self.n_heads, C//self.n_heads).transpose(1,2)\n",
        "    v = v.view(B, T, self.n_heads, C//self.n_heads).transpose(1,2)\n",
        "    # flash attn gpu brrrrrrrrr\n",
        "    y = nn.functional.scaled_dot_product_attention(q,k,v, attn_mask=mask, dropout_p=self.dropout if self.training else 0, is_causal=is_causal)\n",
        "    y = y.transpose(1, 2).contiguous().view(B, T, C) # re-assemble all head outputs side by side\n",
        "    y = self.resid_dropout((self.c_proj(y)))\n",
        "    return y\n",
        "\n",
        "\n",
        "# mha = MultiHeadSelfAttention(8, 16, 0.4)\n",
        "# mha(torch.rand((64, 32, 16))).shape\n"
      ],
      "metadata": {
        "id": "Pu-Ssv5Shtzh"
      },
      "execution_count": null,
      "outputs": []
    },
    {
      "cell_type": "code",
      "source": [
        "class MLP(nn.Module):\n",
        "  def __init__(self, n_embd, dropout=0.2, bias=False):\n",
        "    super().__init__()\n",
        "    self.c_fc = nn.Linear(n_embd, 4*n_embd, bias=bias)\n",
        "    self.c_proj = nn.Linear(4*n_embd, n_embd, bias=bias)\n",
        "    self.dropout = nn.Dropout(dropout)\n",
        "    self.gelu = nn.GELU()\n",
        "\n",
        "  def forward(self, x):\n",
        "    x = self.c_fc(x)\n",
        "    x = self.gelu(x)\n",
        "    x = self.c_proj(x)\n",
        "    x = self.dropout(x)\n",
        "    return x\n",
        "\n"
      ],
      "metadata": {
        "id": "ttj5JR_N3HvA"
      },
      "execution_count": null,
      "outputs": []
    },
    {
      "cell_type": "code",
      "source": [
        "class Block(nn.Module):\n",
        "  def __init__(self, n_embd, n_heads, dropout=0.2, bias=False):\n",
        "    super().__init__()\n",
        "    self.ln1 = LayerNorm(n_embd)\n",
        "    self.ln2 = LayerNorm(n_embd)\n",
        "    self.attn = MultiHeadSelfAttention(n_heads, n_embd, dropout, bias)\n",
        "    self.mlp = MLP(n_embd, dropout, bias)\n",
        "\n",
        "  def forward(self, x, mask=None):\n",
        "    x = x + self.attn(self.ln1(x), mask)\n",
        "    x = x + self.mlp(self.ln2(x))\n",
        "    return x\n"
      ],
      "metadata": {
        "id": "q7JkDZXl5YBT"
      },
      "execution_count": null,
      "outputs": []
    },
    {
      "cell_type": "markdown",
      "source": [
        "https://tintn.github.io/Implementing-Vision-Transformer-from-Scratch/"
      ],
      "metadata": {
        "id": "KxbJTUrDWvdG"
      }
    },
    {
      "cell_type": "code",
      "source": [
        "class VisionTransformer(nn.Module):\n",
        "  def __init__(self, n_patches, n_embd, n_blocks, n_heads, bias=False, dropout=0.2):#block size is the context size which is just the number of patches here\n",
        "    super().__init__()\n",
        "    self.n_patches = n_patches\n",
        "    self.n_embed = n_embd\n",
        "    self.n_heads = n_heads\n",
        "    self.bias = bias\n",
        "    self.dropout = dropout\n",
        "\n",
        "    self.patch_embd_proj = nn.Linear(C*P*P, n_embd, bias=bias)\n",
        "    self.cls_token = nn.Parameter(torch.randn(1, 1, n_embd))\n",
        "    self.positional_embd = nn.Parameter(torch.randn(1, N+1, n_embd))\n",
        "\n",
        "    self.patch_maker = MakePatches()\n",
        "    self.blocks = nn.ModuleList([Block(n_embd, n_heads, dropout, bias) for _ in range(n_blocks)])\n",
        "\n",
        "  def forward(self, x, mask=None):\n",
        "    x = self.patch_maker(x)\n",
        "    # print(\"patch\", x.shape)\n",
        "    x = self.patch_embd_proj(x)\n",
        "    cls_tokens = self.cls_token.expand(x.shape[0], -1, -1)#expand for each data in a batch\n",
        "    # print(\"cls\", cls_tokens.shape)\n",
        "    # print(\"patch embd \", x.shape)\n",
        "    x = torch.cat((cls_tokens, x), dim=1)#prepend to each data\n",
        "    # print(\"cat\", x.shape)\n",
        "    # print(\"pos\", self.positional_embd.shape)\n",
        "    x = x + self.positional_embd\n",
        "    for block in self.blocks:\n",
        "      x = block(x, mask)\n",
        "    return x\n",
        "\n",
        "\n",
        "\n",
        "\n",
        "vit = VisionTransformer(49, 128, 8, 8)\n",
        "vit(torch.randn((64, 1, 28, 28))).shape"
      ],
      "metadata": {
        "id": "U7GroQA37bh9",
        "colab": {
          "base_uri": "https://localhost:8080/"
        },
        "outputId": "a3ea5a1d-e7cc-4146-b95c-0db7dca285b3"
      },
      "execution_count": null,
      "outputs": [
        {
          "output_type": "execute_result",
          "data": {
            "text/plain": [
              "torch.Size([64, 50, 128])"
            ]
          },
          "metadata": {},
          "execution_count": 16
        }
      ]
    },
    {
      "cell_type": "code",
      "source": [
        "class VisionTransformerForClassificaiton(nn.Module):\n",
        "  def __init__(self,n_classes = 10):\n",
        "    super().__init__()\n",
        "    self.vit = VisionTransformer(49, 128, 8, 8)\n",
        "    self.head = nn.Linear(128, n_classes)\n",
        "\n",
        "  def forward(self, x):\n",
        "    x = self.vit(x)\n",
        "    cls = x[:, 0]\n",
        "    logits = self.head(cls)\n",
        "    return logits\n"
      ],
      "metadata": {
        "id": "EJPuMMVygRv4"
      },
      "execution_count": null,
      "outputs": []
    },
    {
      "cell_type": "code",
      "source": [
        "!pip install -q wandb"
      ],
      "metadata": {
        "id": "8N3Fo9E3srwP"
      },
      "execution_count": null,
      "outputs": []
    },
    {
      "cell_type": "markdown",
      "source": [
        "\"330a4a0723c3988c8d367cbb822d3d6624621fbd\""
      ],
      "metadata": {
        "id": "ZEveaYcgnWQl"
      }
    },
    {
      "cell_type": "code",
      "source": [
        "import wandb\n",
        "\n",
        "api_key =\n",
        "wandb.login(key=api_key)"
      ],
      "metadata": {
        "colab": {
          "base_uri": "https://localhost:8080/"
        },
        "id": "Iqau6lKGfUC_",
        "outputId": "815654db-6419-42b5-a057-8208e3a74333"
      },
      "execution_count": null,
      "outputs": [
        {
          "output_type": "stream",
          "name": "stderr",
          "text": [
            "\u001b[34m\u001b[1mwandb\u001b[0m: Using wandb-core as the SDK backend.  Please refer to https://wandb.me/wandb-core for more information.\n",
            "\u001b[34m\u001b[1mwandb\u001b[0m: W&B API key is configured. Use \u001b[1m`wandb login --relogin`\u001b[0m to force relogin\n",
            "\u001b[34m\u001b[1mwandb\u001b[0m: \u001b[33mWARNING\u001b[0m If you're specifying your api key in code, ensure this code is not shared publicly.\n",
            "\u001b[34m\u001b[1mwandb\u001b[0m: \u001b[33mWARNING\u001b[0m Consider setting the WANDB_API_KEY environment variable, or running `wandb login` from the command line.\n",
            "\u001b[34m\u001b[1mwandb\u001b[0m: Appending key for api.wandb.ai to your netrc file: /root/.netrc\n"
          ]
        },
        {
          "output_type": "execute_result",
          "data": {
            "text/plain": [
              "True"
            ]
          },
          "metadata": {},
          "execution_count": 19
        }
      ]
    },
    {
      "cell_type": "markdown",
      "source": [
        "# training classifier from scratch"
      ],
      "metadata": {
        "id": "yUTagz2viwQ4"
      }
    },
    {
      "cell_type": "code",
      "source": [
        "name = str(input(\"Enter run name: \"))\n",
        "wandb.init(project=\"vit-implementation\", name=f\"{name}\")\n",
        "\n",
        "device = torch.device(\"cuda\" if torch.cuda.is_available() else \"cpu\")\n",
        "\n",
        "model = VisionTransformerForClassificaiton().to(device)\n",
        "\n",
        "if torch.cuda.device_count() > 1:\n",
        "  print(f\"using {torch.cuda.device_count()} gpus\")\n",
        "  model = nn.DataParallel(model)\n",
        "\n",
        "optimizer = torch.optim.AdamW(model.parameters(), lr=1e-3)\n",
        "criterion = nn.CrossEntropyLoss()\n",
        "\n",
        "epochs = 20\n",
        "for epoch in range(epochs):\n",
        "    # Training step\n",
        "    model.train()\n",
        "    train_loss = 0\n",
        "    total_norm = 0\n",
        "    for batch_idx, train_data in enumerate(train_loader):\n",
        "        data, target = train_data[\"image\"].to(device), train_data[\"label\"].to(device)\n",
        "        optimizer.zero_grad()\n",
        "        output = model(data)\n",
        "        loss = criterion(output, target)\n",
        "        loss.backward()\n",
        "\n",
        "        # Compute gradient norm\n",
        "        total_norm = 0\n",
        "        for param in model.parameters():\n",
        "            if param.grad is not None:\n",
        "                param_norm = param.grad.data.norm(2)\n",
        "                total_norm += param_norm.item() ** 2\n",
        "        total_norm = total_norm ** 0.5\n",
        "\n",
        "        optimizer.step()\n",
        "        train_loss += loss.item()\n",
        "\n",
        "    train_loss /= len(train_loader)\n",
        "\n",
        "    # Validation step\n",
        "    model.eval()\n",
        "    val_loss = 0\n",
        "    with torch.no_grad():\n",
        "        for val_data in val_loader:\n",
        "            data, target = val_data[\"image\"].to(device), val_data[\"label\"].to(device)\n",
        "            output = model(data)\n",
        "            val_loss += criterion(output, target).item()\n",
        "\n",
        "    val_loss /= len(val_loader)\n",
        "\n",
        "    wandb.log({\n",
        "        \"Epoch\": epoch,\n",
        "        \"Train Loss\": train_loss,\n",
        "        \"Validation Loss\": val_loss,\n",
        "        \"Gradient Norm\": total_norm,\n",
        "        \"GPU Usage (MB)\": torch.cuda.memory_allocated(device) / (1024 * 1024)\n",
        "    })\n",
        "\n",
        "    # Print progress\n",
        "    print(f\"Epoch {epoch+1}/{epochs}, Train Loss: {train_loss:.4f}, \",\n",
        "          f\"Val Loss: {val_loss:.4f}, Grad Norm: {total_norm:.4f}\")\n",
        "\n",
        "wandb.finish()\n",
        "\n"
      ],
      "metadata": {
        "colab": {
          "base_uri": "https://localhost:8080/",
          "height": 755
        },
        "id": "AJ2w0n8YfpuY",
        "outputId": "72345b3b-69ea-49de-bdf3-11315266d14f"
      },
      "execution_count": null,
      "outputs": [
        {
          "name": "stdout",
          "output_type": "stream",
          "text": [
            "Enter run name: lr_1e-3_epoch_20_128_8_8\n"
          ]
        },
        {
          "output_type": "stream",
          "name": "stderr",
          "text": [
            "\u001b[34m\u001b[1mwandb\u001b[0m: Currently logged in as: \u001b[33mneupane-ashok-9696\u001b[0m (\u001b[33mashokailab\u001b[0m). Use \u001b[1m`wandb login --relogin`\u001b[0m to force relogin\n"
          ]
        },
        {
          "output_type": "display_data",
          "data": {
            "text/plain": [
              "<IPython.core.display.HTML object>"
            ],
            "text/html": [
              "Tracking run with wandb version 0.18.7"
            ]
          },
          "metadata": {}
        },
        {
          "output_type": "display_data",
          "data": {
            "text/plain": [
              "<IPython.core.display.HTML object>"
            ],
            "text/html": [
              "Run data is saved locally in <code>/content/wandb/run-20241218_074308-c4v2fk92</code>"
            ]
          },
          "metadata": {}
        },
        {
          "output_type": "display_data",
          "data": {
            "text/plain": [
              "<IPython.core.display.HTML object>"
            ],
            "text/html": [
              "Syncing run <strong><a href='https://wandb.ai/ashokailab/vit-implementation/runs/c4v2fk92' target=\"_blank\">lr_1e-3_epoch_20_128_8_8</a></strong> to <a href='https://wandb.ai/ashokailab/vit-implementation' target=\"_blank\">Weights & Biases</a> (<a href='https://wandb.me/developer-guide' target=\"_blank\">docs</a>)<br/>"
            ]
          },
          "metadata": {}
        },
        {
          "output_type": "display_data",
          "data": {
            "text/plain": [
              "<IPython.core.display.HTML object>"
            ],
            "text/html": [
              " View project at <a href='https://wandb.ai/ashokailab/vit-implementation' target=\"_blank\">https://wandb.ai/ashokailab/vit-implementation</a>"
            ]
          },
          "metadata": {}
        },
        {
          "output_type": "display_data",
          "data": {
            "text/plain": [
              "<IPython.core.display.HTML object>"
            ],
            "text/html": [
              " View run at <a href='https://wandb.ai/ashokailab/vit-implementation/runs/c4v2fk92' target=\"_blank\">https://wandb.ai/ashokailab/vit-implementation/runs/c4v2fk92</a>"
            ]
          },
          "metadata": {}
        },
        {
          "output_type": "stream",
          "name": "stdout",
          "text": [
            "Epoch 1/20, Train Loss: 0.5850,  Val Loss: 0.2541, Grad Norm: 2.4606\n",
            "Epoch 2/20, Train Loss: 0.2307,  Val Loss: 0.1831, Grad Norm: 2.5194\n",
            "Epoch 3/20, Train Loss: 0.1905,  Val Loss: 0.1632, Grad Norm: 2.6399\n",
            "Epoch 4/20, Train Loss: 0.1623,  Val Loss: 0.1593, Grad Norm: 1.8079\n",
            "Epoch 5/20, Train Loss: 0.1481,  Val Loss: 0.1404, Grad Norm: 2.2224\n",
            "Epoch 6/20, Train Loss: 0.1314,  Val Loss: 0.1183, Grad Norm: 0.5561\n",
            "Epoch 7/20, Train Loss: 0.1252,  Val Loss: 0.1290, Grad Norm: 0.5843\n",
            "Epoch 8/20, Train Loss: 0.1164,  Val Loss: 0.1369, Grad Norm: 0.7987\n",
            "Epoch 9/20, Train Loss: 0.1092,  Val Loss: 0.1127, Grad Norm: 0.9147\n",
            "Epoch 10/20, Train Loss: 0.1019,  Val Loss: 0.1109, Grad Norm: 0.6339\n",
            "Epoch 11/20, Train Loss: 0.0937,  Val Loss: 0.1022, Grad Norm: 2.2993\n",
            "Epoch 12/20, Train Loss: 0.0954,  Val Loss: 0.1153, Grad Norm: 2.5596\n",
            "Epoch 13/20, Train Loss: 0.0867,  Val Loss: 0.1095, Grad Norm: 1.5817\n",
            "Epoch 14/20, Train Loss: 0.0788,  Val Loss: 0.1063, Grad Norm: 0.4598\n",
            "Epoch 15/20, Train Loss: 0.0786,  Val Loss: 0.1097, Grad Norm: 0.7627\n",
            "Epoch 16/20, Train Loss: 0.0738,  Val Loss: 0.1332, Grad Norm: 2.5602\n",
            "Epoch 17/20, Train Loss: 0.0709,  Val Loss: 0.1231, Grad Norm: 0.3405\n",
            "Epoch 18/20, Train Loss: 0.0663,  Val Loss: 0.1149, Grad Norm: 2.3502\n",
            "Epoch 19/20, Train Loss: 0.0728,  Val Loss: 0.1078, Grad Norm: 3.1979\n",
            "Epoch 20/20, Train Loss: 0.0646,  Val Loss: 0.0913, Grad Norm: 1.0993\n"
          ]
        },
        {
          "output_type": "display_data",
          "data": {
            "text/plain": [
              "<IPython.core.display.HTML object>"
            ],
            "text/html": [
              "\n",
              "    <style>\n",
              "        .wandb-row {\n",
              "            display: flex;\n",
              "            flex-direction: row;\n",
              "            flex-wrap: wrap;\n",
              "            justify-content: flex-start;\n",
              "            width: 100%;\n",
              "        }\n",
              "        .wandb-col {\n",
              "            display: flex;\n",
              "            flex-direction: column;\n",
              "            flex-basis: 100%;\n",
              "            flex: 1;\n",
              "            padding: 10px;\n",
              "        }\n",
              "    </style>\n",
              "<div class=\"wandb-row\"><div class=\"wandb-col\"><h3>Run history:</h3><br/><table class=\"wandb\"><tr><td>Epoch</td><td>▁▁▂▂▂▃▃▄▄▄▅▅▅▆▆▇▇▇██</td></tr><tr><td>GPU Usage (MB)</td><td>▁▁▁▁▁▁▁▁▁▁▁▁▁▁▁▁▁▁▁▁</td></tr><tr><td>Gradient Norm</td><td>▆▆▇▅▆▂▂▂▂▂▆▆▄▁▂▆▁▆█▃</td></tr><tr><td>Train Loss</td><td>█▃▃▂▂▂▂▂▂▂▁▁▁▁▁▁▁▁▁▁</td></tr><tr><td>Validation Loss</td><td>█▅▄▄▃▂▃▃▂▂▁▂▂▂▂▃▂▂▂▁</td></tr></table><br/></div><div class=\"wandb-col\"><h3>Run summary:</h3><br/><table class=\"wandb\"><tr><td>Epoch</td><td>19</td></tr><tr><td>GPU Usage (MB)</td><td>40.7749</td></tr><tr><td>Gradient Norm</td><td>1.0993</td></tr><tr><td>Train Loss</td><td>0.06465</td></tr><tr><td>Validation Loss</td><td>0.09132</td></tr></table><br/></div></div>"
            ]
          },
          "metadata": {}
        },
        {
          "output_type": "display_data",
          "data": {
            "text/plain": [
              "<IPython.core.display.HTML object>"
            ],
            "text/html": [
              " View run <strong style=\"color:#cdcd00\">lr_1e-3_epoch_20_128_8_8</strong> at: <a href='https://wandb.ai/ashokailab/vit-implementation/runs/c4v2fk92' target=\"_blank\">https://wandb.ai/ashokailab/vit-implementation/runs/c4v2fk92</a><br/> View project at: <a href='https://wandb.ai/ashokailab/vit-implementation' target=\"_blank\">https://wandb.ai/ashokailab/vit-implementation</a><br/>Synced 5 W&B file(s), 0 media file(s), 0 artifact file(s) and 0 other file(s)"
            ]
          },
          "metadata": {}
        },
        {
          "output_type": "display_data",
          "data": {
            "text/plain": [
              "<IPython.core.display.HTML object>"
            ],
            "text/html": [
              "Find logs at: <code>./wandb/run-20241218_074308-c4v2fk92/logs</code>"
            ]
          },
          "metadata": {}
        }
      ]
    },
    {
      "cell_type": "markdown",
      "source": [
        "Enter run name: lr_1e-3_epoch_20_128_8_8\n",
        "\n",
        "- 128 8 8 n_embd n_block n_head"
      ],
      "metadata": {
        "id": "o6WJXFsWuKOB"
      }
    },
    {
      "cell_type": "code",
      "source": [
        "model.eval()  # Set model to evaluation mode\n",
        "test_loss = 0.0\n",
        "\n",
        "with torch.no_grad():\n",
        "    for test_data in test_loader:\n",
        "        data, target = test_data[\"image\"].to(device), test_data[\"label\"].to(device)\n",
        "        output = model(data)\n",
        "        test_loss += criterion(output, target).item()\n",
        "\n",
        "test_loss /= len(test_loader)\n",
        "\n",
        "print(f\"Test Loss: {test_loss:.4f}\")"
      ],
      "metadata": {
        "colab": {
          "base_uri": "https://localhost:8080/"
        },
        "id": "3uyo9lzQsFKJ",
        "outputId": "734dd104-9b86-4a4a-bb7b-65021e6d7c49"
      },
      "execution_count": null,
      "outputs": [
        {
          "output_type": "stream",
          "name": "stdout",
          "text": [
            "Test Loss: 0.0717\n"
          ]
        }
      ]
    },
    {
      "cell_type": "code",
      "source": [
        "import matplotlib.pyplot as plt\n",
        "import numpy as np\n",
        "\n",
        "model.eval()  # Set model to evaluation mode\n",
        "test_loss = 0.0\n",
        "\n",
        "with torch.no_grad():\n",
        "    fig, axes = plt.subplots(1, 5, figsize=(20, 4))  # Display 5 images\n",
        "    for idx, test_data in enumerate(test_loader):\n",
        "        data, target = test_data[\"image\"].to(device), test_data[\"label\"].to(device)\n",
        "        output = model(data)\n",
        "        test_loss += criterion(output, target).item()\n",
        "\n",
        "        # Get predictions\n",
        "        _, pred = output.max(1)\n",
        "\n",
        "        # Visualize only the first 5 samples\n",
        "        if idx < 5:\n",
        "            img = data[idx].cpu().numpy()\n",
        "            print(f\"image {img.shape}\")\n",
        "            img = np.transpose(img, (1, 2, 0))  # Reorder dimensions for visualization\n",
        "\n",
        "            axes[idx].imshow(img)\n",
        "            axes[idx].set_title(f\"True: {target[idx].item()}, Pred: {pred[idx].item()}\")\n",
        "            axes[idx].axis('off')\n",
        "\n",
        "    plt.show()\n",
        "\n",
        "test_loss /= len(test_loader)\n",
        "print(f\"Test Loss: {test_loss:.4f}\")\n",
        "\n"
      ],
      "metadata": {
        "colab": {
          "base_uri": "https://localhost:8080/",
          "height": 333
        },
        "id": "ysrDyyt8sw6n",
        "outputId": "0d07a242-b020-4d17-c97c-842837ad7ef3"
      },
      "execution_count": null,
      "outputs": [
        {
          "output_type": "stream",
          "name": "stdout",
          "text": [
            "image (1, 28, 28)\n",
            "image (1, 28, 28)\n",
            "image (1, 28, 28)\n",
            "image (1, 28, 28)\n",
            "image (1, 28, 28)\n"
          ]
        },
        {
          "output_type": "display_data",
          "data": {
            "text/plain": [
              "<Figure size 2000x400 with 5 Axes>"
            ],
            "image/png": "[encoded data removed]"
          },
          "metadata": {}
        },
        {
          "output_type": "stream",
          "name": "stdout",
          "text": [
            "Test Loss: 0.0717\n"
          ]
        }
      ]
    },
    {
      "cell_type": "code",
      "source": [
        "from google.colab import drive\n",
        "drive.mount('/content/drive')\n",
        "\n",
        "torch.save(model.state_dict(), '/content/drive/MyDrive/research/lr_1e-3_epoch_20_128_8_8.pth')\n"
      ],
      "metadata": {
        "colab": {
          "base_uri": "https://localhost:8080/"
        },
        "id": "yRLPqNILxsfI",
        "outputId": "897698e4-452f-4a2f-f777-fd6e6787011b"
      },
      "execution_count": null,
      "outputs": [
        {
          "output_type": "stream",
          "name": "stdout",
          "text": [
            "Mounted at /content/drive\n"
          ]
        }
      ]
    }
  ]
}