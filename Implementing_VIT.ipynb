{
  "nbformat": 4,
  "nbformat_minor": 0,
  "metadata": {
    "colab": {
      "provenance": []
    },
    "kernelspec": {
      "name": "python3",
      "display_name": "Python 3"
    },
    "language_info": {
      "name": "python"
    }
  },
  "cells": [
    {
      "cell_type": "markdown",
      "source": [
        "# Todo\n",
        "## do it in mnist digits dataset\n",
        "- [x] load dataset\n",
        "- [x] implement paper in code.\n",
        "- [x] train from scratch for a few epochs supervised(training)\n",
        "- [x] viz loss and gradients to see if the training is approaching a minima or not\n",
        "- [x] viz learned positional embedding\n",
        "- [x] viz attn map for few images\n",
        "- [ ] viz attention distance as in paper\n",
        "- [ ] viz amount of compute for inference and inference speed.\n",
        "- [ ] perform ablation study\n",
        "- [ ] load weights from pretrained\n",
        "- [ ] finetune for 2 class classification. (2 class plus 1 unknown) on higher resolution\n",
        "- [ ] viz clustering effect of vit in 2 classes\n",
        "- [ ] do everything by doing self supervised training. mae, jepa(optional)\n",
        "- [ ] distill this in smaller model\n",
        "- [ ] use synthetic data to make it better\n",
        "- [ ]  Adversarial robustness in computer vision models in ViT project\n",
        "\n",
        "\n"
      ],
      "metadata": {
        "id": "FrnbGd2CSEV5"
      }
    },
    {
      "cell_type": "markdown",
      "source": [
        "# Loading MNIST digit dataset\n",
        "\n",
        "https://huggingface.co/datasets/ylecun/mnist"
      ],
      "metadata": {
        "id": "u6t_a-dpnad0"
      }
    },
    {
      "cell_type": "code",
      "source": [
        "!pip install -q datasets"
      ],
      "metadata": {
        "id": "WzSbTSs_oxGd"
      },
      "execution_count": null,
      "outputs": []
    },
    {
      "cell_type": "code",
      "source": [
        "from datasets import load_dataset\n",
        "\n",
        "ds = load_dataset(\"ylecun/mnist\")\n",
        "ds"
      ],
      "metadata": {
        "colab": {
          "base_uri": "https://localhost:8080/"
        },
        "id": "N3he2kP-nfSL",
        "outputId": "c8d36d2d-28f0-40c6-8f70-0b756b9ee74a"
      },
      "execution_count": null,
      "outputs": [
        {
          "output_type": "execute_result",
          "data": {
            "text/plain": [
              "DatasetDict({\n",
              "    train: Dataset({\n",
              "        features: ['image', 'label'],\n",
              "        num_rows: 60000\n",
              "    })\n",
              "    test: Dataset({\n",
              "        features: ['image', 'label'],\n",
              "        num_rows: 10000\n",
              "    })\n",
              "})"
            ]
          },
          "metadata": {},
          "execution_count": 39
        }
      ]
    },
    {
      "cell_type": "code",
      "source": [
        "from torch.utils.data import DataLoader\n",
        "import torch\n",
        "from torchvision import transforms\n",
        "\n",
        "to_tensor = transforms.ToTensor()\n",
        "def transform(batch):\n",
        "  batch[\"image\"] = [(to_tensor(img)) for img in batch[\"image\"]]\n",
        "  return batch\n",
        "\n",
        "ds.set_transform(transform) # it does the transformation when loading the data later during training and testing\n",
        "# ds.map(transform, batched = True)# it transforms the whole dataset upfront. takes too long"
      ],
      "metadata": {
        "id": "FkQBWQqC0lMm"
      },
      "execution_count": null,
      "outputs": []
    },
    {
      "cell_type": "code",
      "source": [
        "split_ds = ds[\"train\"].train_test_split(test_size=0.1, shuffle=True, seed=42)\n",
        "train_ds = split_ds[\"train\"]\n",
        "val_ds = split_ds[\"test\"]\n",
        "test_ds = ds[\"test\"]"
      ],
      "metadata": {
        "id": "wm602hY-zpvV"
      },
      "execution_count": null,
      "outputs": []
    },
    {
      "cell_type": "code",
      "source": [
        "one_data = next(iter(ds[\"train\"]))\n",
        "print(one_data[\"label\"])\n",
        "print(one_data[\"image\"].shape)\n",
        "print(type(one_data[\"image\"]))\n"
      ],
      "metadata": {
        "colab": {
          "base_uri": "https://localhost:8080/"
        },
        "id": "NUQqFhYFtjrD",
        "outputId": "4f23b9af-d6c9-4f35-f998-7451aa9e56ac"
      },
      "execution_count": null,
      "outputs": [
        {
          "output_type": "stream",
          "name": "stdout",
          "text": [
            "5\n",
            "torch.Size([1, 28, 28])\n",
            "<class 'torch.Tensor'>\n"
          ]
        }
      ]
    },
    {
      "cell_type": "code",
      "source": [
        "BATCH_SIZE = 64"
      ],
      "metadata": {
        "id": "16kWLFDnxzuA"
      },
      "execution_count": null,
      "outputs": []
    },
    {
      "cell_type": "code",
      "source": [
        "train_loader = DataLoader(train_ds, batch_size=1, shuffle=True)\n",
        "val_loader = DataLoader(val_ds, batch_size=BATCH_SIZE)\n",
        "test_loader = DataLoader(test_ds, batch_size=BATCH_SIZE)"
      ],
      "metadata": {
        "id": "l_VfV811xdkB"
      },
      "execution_count": 100,
      "outputs": []
    },
    {
      "cell_type": "code",
      "source": [
        "one_image = next(iter(train_loader))[\"image\"][0]\n",
        "print(one_image.shape)"
      ],
      "metadata": {
        "colab": {
          "base_uri": "https://localhost:8080/"
        },
        "id": "CCKXZ9en04jm",
        "outputId": "3617a092-beb8-499e-9a4a-afc9979c3ea3"
      },
      "execution_count": null,
      "outputs": [
        {
          "output_type": "stream",
          "name": "stdout",
          "text": [
            "torch.Size([1, 28, 28])\n"
          ]
        }
      ]
    },
    {
      "cell_type": "markdown",
      "source": [
        "# Vision Transformer implementation\n",
        "src: http://arxiv.org/abs/2010.11929\n",
        "##An Image is Worth 16x16 Words\n",
        "https://github.com/google-research/vision_transformer"
      ],
      "metadata": {
        "id": "EASM_DLAmGQa"
      }
    },
    {
      "cell_type": "code",
      "source": [
        "P = 4 #patch size\n",
        "C = 1\n",
        "H = 28\n",
        "W = 28\n",
        "N = int(H * W / P**2)\n",
        "print(f\"Number of patches: {N}, patch size: {P}\")"
      ],
      "metadata": {
        "colab": {
          "base_uri": "https://localhost:8080/"
        },
        "id": "JaANZJCDYZnd",
        "outputId": "f2d51b45-797a-4b83-baff-38c751a89865"
      },
      "execution_count": null,
      "outputs": [
        {
          "output_type": "stream",
          "name": "stdout",
          "text": [
            "Number of patches: 49, patch size: 4\n"
          ]
        }
      ]
    },
    {
      "cell_type": "code",
      "source": [
        "from torch import nn\n",
        "\n",
        "class MakePatches(nn.Module):\n",
        "  def __init__(self, patch_size=P):\n",
        "    super().__init__()\n",
        "    self.patch_size = patch_size\n",
        "    self.unfold = nn.Unfold(kernel_size=patch_size, stride=patch_size)\n",
        "\n",
        "  def forward(self, x):\n",
        "    b, c, h, w = x.shape\n",
        "    x = self.unfold(x)#B,(c*p*p), n.   n = no .f patches\n",
        "    # x = x.view(b, c, self.patch_size, self.patch_size, -1).permute(0, 4, 1, 2, 3)#b,n,c,p,p\n",
        "    x = x.view(b, -1, C*P*P)\n",
        "    return x\n",
        "\n",
        "  def viz(self, x):\n",
        "    b, c, h, w = x.shape\n",
        "    x = self.unfold(x)#B,(c*p*p), n.   n = no .f patches\n",
        "    x = x.view(b, c, self.patch_size, self.patch_size, -1).permute(0, 4, 1, 2, 3)#b,n,c,p,p\n",
        "    return x\n",
        "\n"
      ],
      "metadata": {
        "id": "Fu799LRb4mzd"
      },
      "execution_count": null,
      "outputs": []
    },
    {
      "cell_type": "code",
      "source": [
        "import matplotlib.pyplot as plt\n",
        "patch_maker = MakePatches(patch_size=7)\n",
        "\n",
        "batch = next(iter(train_loader))\n",
        "images, labels = batch[\"image\"], batch[\"label\"]\n",
        "\n",
        "\n",
        "patches = patch_maker.viz(images)\n",
        "\n",
        "\n",
        "first_image_patches = patches[0]\n",
        "\n",
        "\n",
        "def show_patches(patches, n_rows=4, n_cols=4):\n",
        "    fig, axes = plt.subplots(n_rows, n_cols, figsize=(5, 5))\n",
        "\n",
        "    for idx, patch in enumerate(first_image_patches):\n",
        "        row, col = divmod(idx, n_rows)\n",
        "        axes[row, col].imshow(patch.permute(1, 2, 0), cmap=\"gray\")  # Rearrange (C, H, W) -> (H, W, C)\n",
        "        axes[row, col].axis(\"off\")\n",
        "\n",
        "    plt.tight_layout()\n",
        "    plt.show()\n",
        "\n",
        "show_patches(first_image_patches)"
      ],
      "metadata": {
        "colab": {
          "base_uri": "https://localhost:8080/",
          "height": 507
        },
        "id": "0V8ZiIBXUXG0",
        "outputId": "2bddaccd-917f-4bd2-dbf5-f2dbdf3f11ef"
      },
      "execution_count": null,
      "outputs": [
        {
          "output_type": "display_data",
          "data": {
            "text/plain": [
              "<Figure size 500x500 with 16 Axes>"
            ],
            "image/png": "[encoded data removed]"
          },
          "metadata": {}
        }
      ]
    },
    {
      "cell_type": "markdown",
      "source": [
        "https://github.com/karpathy/nanoGPT"
      ],
      "metadata": {
        "id": "IST3_D1E_E3G"
      }
    },
    {
      "cell_type": "code",
      "source": [
        "class LayerNorm(nn.Module):\n",
        "  \"\"\"We are creating our own custom layernorm because pytorch's implementation does not allow use to do bias=False\"\"\"\n",
        "  def __init__(self, ndim, bias=False):\n",
        "    super().__init__()\n",
        "    self.weight = nn.Parameter(torch.ones(ndim))\n",
        "    self.bias = nn.Parameter(torch.zeros(ndim)) if bias else None\n",
        "\n",
        "  def forward(self, x):\n",
        "    return nn.functional.layer_norm(x,self.weight.shape, self.weight, self.bias, 1e-5)\n",
        "\n",
        "\n",
        "# norm = LayerNorm(16)\n",
        "# norm(torch.rand((64, 32, 16))).shape"
      ],
      "metadata": {
        "id": "G8J-9M29fveQ"
      },
      "execution_count": null,
      "outputs": []
    },
    {
      "cell_type": "markdown",
      "source": [
        "in multihead attention, we project the input to have 3 times the input dims(channel),\n",
        "split to k, q, v\n",
        "then divide channel to all the heads, so each k q v act in a subset of channels. then we aggregate\n"
      ],
      "metadata": {
        "id": "Rdjyye8rrFC-"
      }
    },
    {
      "cell_type": "code",
      "source": [
        "attention_maps = []"
      ],
      "metadata": {
        "id": "pH_oy47OzWNV"
      },
      "execution_count": 68,
      "outputs": []
    },
    {
      "cell_type": "code",
      "source": [
        "import math\n",
        "from torch.nn import functional as F\n",
        "\n",
        "\n",
        "class MultiHeadSelfAttention(nn.Module):\n",
        "  def __init__(self, n_heads, n_embd, dropout=0.2, bias=False):\n",
        "    super().__init__()\n",
        "    assert n_embd % n_heads == 0\n",
        "    self.n_heads = n_heads\n",
        "    self.n_embd = n_embd\n",
        "    self.dropout = dropout\n",
        "    self.bias = bias\n",
        "    self.c_attn = nn.Linear(n_embd, 3*n_embd, bias=bias)\n",
        "    self.c_proj = nn.Linear(n_embd, n_embd, bias=bias)\n",
        "    self.resid_dropout = nn.Dropout(dropout)\n",
        "\n",
        "  def forward(self, x, mask=None, is_causal=False):\n",
        "    B, T, C = x.shape\n",
        "    k, q, v = self.c_attn(x).split(self.n_embd, dim=2)\n",
        "    k = k.view(B, T, self.n_heads, C//self.n_heads).transpose(1,2)# (B, nh, T, hs); hs= head size = no of channels in each head; nh=number of head\n",
        "    q = q.view(B, T, self.n_heads, C//self.n_heads).transpose(1,2)\n",
        "    v = v.view(B, T, self.n_heads, C//self.n_heads).transpose(1,2)\n",
        "    # flash attn gpu brrrrrrrrr for training\n",
        "    # y = nn.functional.scaled_dot_product_attention(q,k,v, attn_mask=mask, dropout_p=self.dropout if self.training else 0, is_causal=is_causal)\n",
        "\n",
        "\n",
        "    #fro viz only\n",
        "    scale_factor = 1 / math.sqrt(q.size(-1))\n",
        "    attention_weight = q @ k.transpose(-2, -1) * scale_factor\n",
        "    # todo code to accept mask\n",
        "    y = F.softmax(attention_weight, dim=-1)#ignored dropout as well here\n",
        "    y = y @ v\n",
        "    global attention_maps\n",
        "    attention_maps.append(attention_weight.detach().cpu())\n",
        "    y = y.transpose(1, 2).contiguous().view(B, T, C) # re-assemble all head outputs side by side\n",
        "    y = self.resid_dropout((self.c_proj(y)))\n",
        "    return y\n",
        "\n",
        "\n",
        "# mha = MultiHeadSelfAttention(8, 16, 0.4)\n",
        "# mha(torch.rand((64, 32, 16))).shape\n"
      ],
      "metadata": {
        "id": "Pu-Ssv5Shtzh"
      },
      "execution_count": 69,
      "outputs": []
    },
    {
      "cell_type": "code",
      "source": [
        "class MLP(nn.Module):\n",
        "  def __init__(self, n_embd, dropout=0.2, bias=False):\n",
        "    super().__init__()\n",
        "    self.c_fc = nn.Linear(n_embd, 4*n_embd, bias=bias)\n",
        "    self.c_proj = nn.Linear(4*n_embd, n_embd, bias=bias)\n",
        "    self.dropout = nn.Dropout(dropout)\n",
        "    self.gelu = nn.GELU()\n",
        "\n",
        "  def forward(self, x):\n",
        "    x = self.c_fc(x)\n",
        "    x = self.gelu(x)\n",
        "    x = self.c_proj(x)\n",
        "    x = self.dropout(x)\n",
        "    return x\n",
        "\n"
      ],
      "metadata": {
        "id": "ttj5JR_N3HvA"
      },
      "execution_count": null,
      "outputs": []
    },
    {
      "cell_type": "code",
      "source": [
        "class Block(nn.Module):\n",
        "  def __init__(self, n_embd, n_heads, dropout=0.2, bias=False):\n",
        "    super().__init__()\n",
        "    self.ln1 = LayerNorm(n_embd)\n",
        "    self.ln2 = LayerNorm(n_embd)\n",
        "    self.attn = MultiHeadSelfAttention(n_heads, n_embd, dropout, bias)\n",
        "    self.mlp = MLP(n_embd, dropout, bias)\n",
        "\n",
        "  def forward(self, x, mask=None):\n",
        "    x = x + self.attn(self.ln1(x), mask)\n",
        "    x = x + self.mlp(self.ln2(x))\n",
        "    return x\n"
      ],
      "metadata": {
        "id": "q7JkDZXl5YBT"
      },
      "execution_count": null,
      "outputs": []
    },
    {
      "cell_type": "markdown",
      "source": [
        "https://tintn.github.io/Implementing-Vision-Transformer-from-Scratch/"
      ],
      "metadata": {
        "id": "KxbJTUrDWvdG"
      }
    },
    {
      "cell_type": "code",
      "source": [
        "class VisionTransformer(nn.Module):\n",
        "  def __init__(self, n_patches, n_embd, n_blocks, n_heads, bias=False, dropout=0.2):#block size is the context size which is just the number of patches here\n",
        "    super().__init__()\n",
        "    self.n_patches = n_patches\n",
        "    self.n_embed = n_embd\n",
        "    self.n_heads = n_heads\n",
        "    self.bias = bias\n",
        "    self.dropout = dropout\n",
        "\n",
        "    self.patch_embd_proj = nn.Linear(C*P*P, n_embd, bias=bias)\n",
        "    self.cls_token = nn.Parameter(torch.randn(1, 1, n_embd))\n",
        "    self.positional_embd = nn.Parameter(torch.randn(1, N+1, n_embd))\n",
        "\n",
        "    self.patch_maker = MakePatches()\n",
        "    self.blocks = nn.ModuleList([Block(n_embd, n_heads, dropout, bias) for _ in range(n_blocks)])\n",
        "\n",
        "  def forward(self, x, mask=None):\n",
        "    x = self.patch_maker(x)\n",
        "    # print(\"patch\", x.shape)\n",
        "    x = self.patch_embd_proj(x)\n",
        "    cls_tokens = self.cls_token.expand(x.shape[0], -1, -1)#expand for each data in a batch\n",
        "    # print(\"cls\", cls_tokens.shape)\n",
        "    # print(\"patch embd \", x.shape)\n",
        "    x = torch.cat((cls_tokens, x), dim=1)#prepend to each data\n",
        "    # print(\"cat\", x.shape)\n",
        "    # print(\"pos\", self.positional_embd.shape)\n",
        "    x = x + self.positional_embd\n",
        "    for block in self.blocks:\n",
        "      x = block(x, mask)\n",
        "    return x\n",
        "\n",
        "\n",
        "\n",
        "\n",
        "vit = VisionTransformer(49, 128, 8, 8)\n",
        "vit(torch.randn((64, 1, 28, 28))).shape"
      ],
      "metadata": {
        "id": "U7GroQA37bh9",
        "colab": {
          "base_uri": "https://localhost:8080/"
        },
        "outputId": "8e7184c3-8aa7-49fc-8893-c619a4d917b4"
      },
      "execution_count": 59,
      "outputs": [
        {
          "output_type": "execute_result",
          "data": {
            "text/plain": [
              "torch.Size([64, 50, 128])"
            ]
          },
          "metadata": {},
          "execution_count": 59
        }
      ]
    },
    {
      "cell_type": "code",
      "source": [
        "class VisionTransformerForClassificaiton(nn.Module):\n",
        "  def __init__(self,n_classes = 10):\n",
        "    super().__init__()\n",
        "    self.vit = VisionTransformer(49, 128, 8, 8)\n",
        "    self.head = nn.Linear(128, n_classes)\n",
        "\n",
        "  def forward(self, x):\n",
        "    x = self.vit(x)\n",
        "    cls = x[:, 0]\n",
        "    logits = self.head(cls)\n",
        "    return logits\n"
      ],
      "metadata": {
        "id": "EJPuMMVygRv4"
      },
      "execution_count": 60,
      "outputs": []
    },
    {
      "cell_type": "code",
      "source": [
        "!pip install -q wandb"
      ],
      "metadata": {
        "id": "8N3Fo9E3srwP"
      },
      "execution_count": null,
      "outputs": []
    },
    {
      "cell_type": "markdown",
      "source": [
        "\"330a4a0723c3988c8d367cbb822d3d6624621fbd\""
      ],
      "metadata": {
        "id": "ZEveaYcgnWQl"
      }
    },
    {
      "cell_type": "code",
      "source": [
        "import wandb\n",
        "\n",
        "api_key = \"330a4a0723c3988c8d367cbb822d3d6624621fbd\"\n",
        "wandb.login(key=api_key)"
      ],
      "metadata": {
        "id": "Iqau6lKGfUC_"
      },
      "execution_count": null,
      "outputs": []
    },
    {
      "cell_type": "markdown",
      "source": [
        "# training classifier from scratch"
      ],
      "metadata": {
        "id": "yUTagz2viwQ4"
      }
    },
    {
      "cell_type": "code",
      "source": [
        "# name = str(input(\"Enter run name: \"))\n",
        "# wandb.init(project=\"vit-implementation\", name=f\"{name}\")\n",
        "\n",
        "# device = torch.device(\"cuda\" if torch.cuda.is_available() else \"cpu\")\n",
        "\n",
        "# model = VisionTransformerForClassificaiton().to(device)\n",
        "\n",
        "# if torch.cuda.device_count() > 1:\n",
        "#   print(f\"using {torch.cuda.device_count()} gpus\")\n",
        "#   model = nn.DataParallel(model)\n",
        "\n",
        "# optimizer = torch.optim.AdamW(model.parameters(), lr=1e-3)\n",
        "# criterion = nn.CrossEntropyLoss()\n",
        "\n",
        "# epochs = 20\n",
        "# for epoch in range(epochs):\n",
        "#     # Training step\n",
        "#     model.train()\n",
        "#     train_loss = 0\n",
        "#     total_norm = 0\n",
        "#     for batch_idx, train_data in enumerate(train_loader):\n",
        "#         data, target = train_data[\"image\"].to(device), train_data[\"label\"].to(device)\n",
        "#         optimizer.zero_grad()\n",
        "#         output = model(data)\n",
        "#         loss = criterion(output, target)\n",
        "#         loss.backward()\n",
        "\n",
        "#         # Compute gradient norm\n",
        "#         total_norm = 0\n",
        "#         for param in model.parameters():\n",
        "#             if param.grad is not None:\n",
        "#                 param_norm = param.grad.data.norm(2)\n",
        "#                 total_norm += param_norm.item() ** 2\n",
        "#         total_norm = total_norm ** 0.5\n",
        "\n",
        "#         optimizer.step()\n",
        "#         train_loss += loss.item()\n",
        "\n",
        "#     train_loss /= len(train_loader)\n",
        "\n",
        "#     # Validation step\n",
        "#     model.eval()\n",
        "#     val_loss = 0\n",
        "#     with torch.no_grad():\n",
        "#         for val_data in val_loader:\n",
        "#             data, target = val_data[\"image\"].to(device), val_data[\"label\"].to(device)\n",
        "#             output = model(data)\n",
        "#             val_loss += criterion(output, target).item()\n",
        "\n",
        "#     val_loss /= len(val_loader)\n",
        "\n",
        "#     wandb.log({\n",
        "#         \"Epoch\": epoch,\n",
        "#         \"Train Loss\": train_loss,\n",
        "#         \"Validation Loss\": val_loss,\n",
        "#         \"Gradient Norm\": total_norm,\n",
        "#         \"GPU Usage (MB)\": torch.cuda.memory_allocated(device) / (1024 * 1024)\n",
        "#     })\n",
        "\n",
        "#     # Print progress\n",
        "#     print(f\"Epoch {epoch+1}/{epochs}, Train Loss: {train_loss:.4f}, \",\n",
        "#           f\"Val Loss: {val_loss:.4f}, Grad Norm: {total_norm:.4f}\")\n",
        "\n",
        "# wandb.finish()\n",
        "\n"
      ],
      "metadata": {
        "id": "AJ2w0n8YfpuY"
      },
      "execution_count": null,
      "outputs": []
    },
    {
      "cell_type": "markdown",
      "source": [
        "Enter run name: lr_1e-3_epoch_20_128_8_8\n",
        "\n",
        "- 128 8 8 n_embd n_block n_head"
      ],
      "metadata": {
        "id": "o6WJXFsWuKOB"
      }
    },
    {
      "cell_type": "code",
      "source": [
        "# import matplotlib.pyplot as plt\n",
        "# import numpy as np\n",
        "criterion = nn.CrossEntropyLoss()\n",
        "model.eval()  # Set model to evaluation mode\n",
        "test_loss = 0.0\n",
        "\n",
        "with torch.no_grad():\n",
        "    fig, axes = plt.subplots(1, 5, figsize=(20, 4))  # Display 5 images\n",
        "    for idx, test_data in enumerate(test_loader):\n",
        "        data, target = test_data[\"image\"].to(device), test_data[\"label\"].to(device)\n",
        "        output = model(data)\n",
        "        test_loss += criterion(output, target).item()\n",
        "\n",
        "        # Get predictions\n",
        "        _, pred = output.max(1)\n",
        "\n",
        "        # Visualize only the first 5 samples\n",
        "        if idx < 5:\n",
        "            img = data[idx].cpu().numpy()\n",
        "            print(f\"image {img.shape}\")\n",
        "            img = np.transpose(img, (1, 2, 0))  # Reorder dimensions for visualization\n",
        "\n",
        "            axes[idx].imshow(img,cmap=\"grey\")\n",
        "            axes[idx].set_title(f\"True: {target[idx].item()}, Pred: {pred[idx].item()}\")\n",
        "            axes[idx].axis('off')\n",
        "\n",
        "    plt.show()\n",
        "\n",
        "test_loss /= len(test_loader)\n",
        "print(f\"Test Loss: {test_loss:.4f}\")\n",
        "\n"
      ],
      "metadata": {
        "id": "ysrDyyt8sw6n",
        "colab": {
          "base_uri": "https://localhost:8080/",
          "height": 261
        },
        "outputId": "546ae54f-2263-413c-a1a6-e2a3e7681262"
      },
      "execution_count": 126,
      "outputs": [
        {
          "output_type": "stream",
          "name": "stdout",
          "text": [
            "image (1, 28, 28)\n",
            "image (1, 28, 28)\n",
            "image (1, 28, 28)\n",
            "image (1, 28, 28)\n",
            "image (1, 28, 28)\n"
          ]
        },
        {
          "output_type": "display_data",
          "data": {
            "text/plain": [
              "<Figure size 2000x400 with 5 Axes>"
            ],
            "image/png": "[encoded data removed]"
          },
          "metadata": {}
        },
        {
          "output_type": "stream",
          "name": "stdout",
          "text": [
            "Test Loss: 0.0717\n"
          ]
        }
      ]
    },
    {
      "cell_type": "code",
      "source": [
        "from google.colab import drive\n",
        "drive.mount('/content/drive')\n",
        "\n",
        "# torch.save(model.state_dict(), '/content/drive/MyDrive/research/lr_1e-3_epoch_20_128_8_8.pth')\n"
      ],
      "metadata": {
        "id": "yRLPqNILxsfI",
        "colab": {
          "base_uri": "https://localhost:8080/"
        },
        "outputId": "e1b098d2-3b25-481a-86c6-979e4ada9ba4"
      },
      "execution_count": 61,
      "outputs": [
        {
          "output_type": "stream",
          "name": "stdout",
          "text": [
            "Drive already mounted at /content/drive; to attempt to forcibly remount, call drive.mount(\"/content/drive\", force_remount=True).\n"
          ]
        }
      ]
    },
    {
      "cell_type": "markdown",
      "source": [
        "# loading the saved checkpoints for further analysis"
      ],
      "metadata": {
        "id": "HRSLyL2vEAF3"
      }
    },
    {
      "cell_type": "code",
      "source": [
        "\n",
        "model = VisionTransformerForClassificaiton()\n",
        "device = torch.device(\"cuda\" if torch.cuda.is_available() else \"cpu\")\n",
        "\n",
        "model = VisionTransformerForClassificaiton().to(device)\n",
        "checkpoint_path = \"/content/drive/MyDrive/research/lr_1e-3_epoch_20_128_8_8.pth\"\n",
        "model.load_state_dict(torch.load(checkpoint_path, map_location=torch.device('cpu')))\n",
        "model.eval()\n",
        "if torch.cuda.device_count() > 1:\n",
        "  print(f\"using {torch.cuda.device_count()} gpus\")\n",
        "  model = nn.DataParallel(model)\n",
        "\n",
        "model(torch.randn((1, 1, 28, 28))).shape\n"
      ],
      "metadata": {
        "id": "Zw70WNPQEENh",
        "colab": {
          "base_uri": "https://localhost:8080/"
        },
        "outputId": "a50f9452-323d-486f-f457-b68d7b51f8a1"
      },
      "execution_count": 70,
      "outputs": [
        {
          "output_type": "stream",
          "name": "stderr",
          "text": [
            "<ipython-input-70-1e8921a48af2>:6: FutureWarning: You are using `torch.load` with `weights_only=False` (the current default value), which uses the default pickle module implicitly. It is possible to construct malicious pickle data which will execute arbitrary code during unpickling (See https://github.com/pytorch/pytorch/blob/main/SECURITY.md#untrusted-models for more details). In a future release, the default value for `weights_only` will be flipped to `True`. This limits the functions that could be executed during unpickling. Arbitrary objects will no longer be allowed to be loaded via this mode unless they are explicitly allowlisted by the user via `torch.serialization.add_safe_globals`. We recommend you start setting `weights_only=True` for any use case where you don't have full control of the loaded file. Please open an issue on GitHub for any issues related to this experimental feature.\n",
            "  model.load_state_dict(torch.load(checkpoint_path, map_location=torch.device('cpu')))\n"
          ]
        },
        {
          "output_type": "execute_result",
          "data": {
            "text/plain": [
              "torch.Size([1, 10])"
            ]
          },
          "metadata": {},
          "execution_count": 70
        }
      ]
    },
    {
      "cell_type": "code",
      "source": [
        "print(f\"total paramerters = {sum(p.numel() for p in model.parameters())}\")\n",
        "for name, param in model.named_parameters():\n",
        "    print(f\"Layer: {name} | Shape: {param.shape} | Requires Grad: {param.requires_grad}\")\n"
      ],
      "metadata": {
        "id": "uI1irAO6PX6K",
        "colab": {
          "base_uri": "https://localhost:8080/"
        },
        "outputId": "da90120b-2d6f-49d2-f202-26b96770a77f"
      },
      "execution_count": 63,
      "outputs": [
        {
          "output_type": "stream",
          "name": "stdout",
          "text": [
            "total paramerters = 1584778\n",
            "Layer: vit.cls_token | Shape: torch.Size([1, 1, 128]) | Requires Grad: True\n",
            "Layer: vit.positional_embd | Shape: torch.Size([1, 50, 128]) | Requires Grad: True\n",
            "Layer: vit.patch_embd_proj.weight | Shape: torch.Size([128, 16]) | Requires Grad: True\n",
            "Layer: vit.blocks.0.ln1.weight | Shape: torch.Size([128]) | Requires Grad: True\n",
            "Layer: vit.blocks.0.ln2.weight | Shape: torch.Size([128]) | Requires Grad: True\n",
            "Layer: vit.blocks.0.attn.c_attn.weight | Shape: torch.Size([384, 128]) | Requires Grad: True\n",
            "Layer: vit.blocks.0.attn.c_proj.weight | Shape: torch.Size([128, 128]) | Requires Grad: True\n",
            "Layer: vit.blocks.0.mlp.c_fc.weight | Shape: torch.Size([512, 128]) | Requires Grad: True\n",
            "Layer: vit.blocks.0.mlp.c_proj.weight | Shape: torch.Size([128, 512]) | Requires Grad: True\n",
            "Layer: vit.blocks.1.ln1.weight | Shape: torch.Size([128]) | Requires Grad: True\n",
            "Layer: vit.blocks.1.ln2.weight | Shape: torch.Size([128]) | Requires Grad: True\n",
            "Layer: vit.blocks.1.attn.c_attn.weight | Shape: torch.Size([384, 128]) | Requires Grad: True\n",
            "Layer: vit.blocks.1.attn.c_proj.weight | Shape: torch.Size([128, 128]) | Requires Grad: True\n",
            "Layer: vit.blocks.1.mlp.c_fc.weight | Shape: torch.Size([512, 128]) | Requires Grad: True\n",
            "Layer: vit.blocks.1.mlp.c_proj.weight | Shape: torch.Size([128, 512]) | Requires Grad: True\n",
            "Layer: vit.blocks.2.ln1.weight | Shape: torch.Size([128]) | Requires Grad: True\n",
            "Layer: vit.blocks.2.ln2.weight | Shape: torch.Size([128]) | Requires Grad: True\n",
            "Layer: vit.blocks.2.attn.c_attn.weight | Shape: torch.Size([384, 128]) | Requires Grad: True\n",
            "Layer: vit.blocks.2.attn.c_proj.weight | Shape: torch.Size([128, 128]) | Requires Grad: True\n",
            "Layer: vit.blocks.2.mlp.c_fc.weight | Shape: torch.Size([512, 128]) | Requires Grad: True\n",
            "Layer: vit.blocks.2.mlp.c_proj.weight | Shape: torch.Size([128, 512]) | Requires Grad: True\n",
            "Layer: vit.blocks.3.ln1.weight | Shape: torch.Size([128]) | Requires Grad: True\n",
            "Layer: vit.blocks.3.ln2.weight | Shape: torch.Size([128]) | Requires Grad: True\n",
            "Layer: vit.blocks.3.attn.c_attn.weight | Shape: torch.Size([384, 128]) | Requires Grad: True\n",
            "Layer: vit.blocks.3.attn.c_proj.weight | Shape: torch.Size([128, 128]) | Requires Grad: True\n",
            "Layer: vit.blocks.3.mlp.c_fc.weight | Shape: torch.Size([512, 128]) | Requires Grad: True\n",
            "Layer: vit.blocks.3.mlp.c_proj.weight | Shape: torch.Size([128, 512]) | Requires Grad: True\n",
            "Layer: vit.blocks.4.ln1.weight | Shape: torch.Size([128]) | Requires Grad: True\n",
            "Layer: vit.blocks.4.ln2.weight | Shape: torch.Size([128]) | Requires Grad: True\n",
            "Layer: vit.blocks.4.attn.c_attn.weight | Shape: torch.Size([384, 128]) | Requires Grad: True\n",
            "Layer: vit.blocks.4.attn.c_proj.weight | Shape: torch.Size([128, 128]) | Requires Grad: True\n",
            "Layer: vit.blocks.4.mlp.c_fc.weight | Shape: torch.Size([512, 128]) | Requires Grad: True\n",
            "Layer: vit.blocks.4.mlp.c_proj.weight | Shape: torch.Size([128, 512]) | Requires Grad: True\n",
            "Layer: vit.blocks.5.ln1.weight | Shape: torch.Size([128]) | Requires Grad: True\n",
            "Layer: vit.blocks.5.ln2.weight | Shape: torch.Size([128]) | Requires Grad: True\n",
            "Layer: vit.blocks.5.attn.c_attn.weight | Shape: torch.Size([384, 128]) | Requires Grad: True\n",
            "Layer: vit.blocks.5.attn.c_proj.weight | Shape: torch.Size([128, 128]) | Requires Grad: True\n",
            "Layer: vit.blocks.5.mlp.c_fc.weight | Shape: torch.Size([512, 128]) | Requires Grad: True\n",
            "Layer: vit.blocks.5.mlp.c_proj.weight | Shape: torch.Size([128, 512]) | Requires Grad: True\n",
            "Layer: vit.blocks.6.ln1.weight | Shape: torch.Size([128]) | Requires Grad: True\n",
            "Layer: vit.blocks.6.ln2.weight | Shape: torch.Size([128]) | Requires Grad: True\n",
            "Layer: vit.blocks.6.attn.c_attn.weight | Shape: torch.Size([384, 128]) | Requires Grad: True\n",
            "Layer: vit.blocks.6.attn.c_proj.weight | Shape: torch.Size([128, 128]) | Requires Grad: True\n",
            "Layer: vit.blocks.6.mlp.c_fc.weight | Shape: torch.Size([512, 128]) | Requires Grad: True\n",
            "Layer: vit.blocks.6.mlp.c_proj.weight | Shape: torch.Size([128, 512]) | Requires Grad: True\n",
            "Layer: vit.blocks.7.ln1.weight | Shape: torch.Size([128]) | Requires Grad: True\n",
            "Layer: vit.blocks.7.ln2.weight | Shape: torch.Size([128]) | Requires Grad: True\n",
            "Layer: vit.blocks.7.attn.c_attn.weight | Shape: torch.Size([384, 128]) | Requires Grad: True\n",
            "Layer: vit.blocks.7.attn.c_proj.weight | Shape: torch.Size([128, 128]) | Requires Grad: True\n",
            "Layer: vit.blocks.7.mlp.c_fc.weight | Shape: torch.Size([512, 128]) | Requires Grad: True\n",
            "Layer: vit.blocks.7.mlp.c_proj.weight | Shape: torch.Size([128, 512]) | Requires Grad: True\n",
            "Layer: head.weight | Shape: torch.Size([10, 128]) | Requires Grad: True\n",
            "Layer: head.bias | Shape: torch.Size([10]) | Requires Grad: True\n"
          ]
        }
      ]
    },
    {
      "cell_type": "markdown",
      "source": [
        "# Visualization Positional Embedding reference\n",
        "https://arxiv.org/abs/2305.07011"
      ],
      "metadata": {
        "id": "DnTJm8imfzMk"
      }
    },
    {
      "cell_type": "code",
      "source": [
        "import torch\n",
        "import numpy as np\n",
        "import matplotlib.pyplot as plt\n",
        "from sklearn.metrics.pairwise import cosine_similarity\n",
        "\n",
        "positional_embd = model.state_dict()[\"vit.positional_embd\"]\n",
        "positional_embd = positional_embd[0, 1:].detach().cpu().numpy()\n",
        "\n",
        "num_patches = positional_embd.shape[0]\n",
        "grid_size = int(np.sqrt(num_patches))\n",
        "\n",
        "cos_sim_matrix = cosine_similarity(positional_embd)\n",
        "\n",
        "fig, axes = plt.subplots(grid_size, grid_size, figsize=(10, 10))\n",
        "\n",
        "for i in range(grid_size):\n",
        "    for j in range(grid_size):\n",
        "        patch_index = i * grid_size + j\n",
        "        similarity = cos_sim_matrix[patch_index].reshape(grid_size, grid_size)\n",
        "        ax = axes[i, j]\n",
        "        im = ax.imshow(similarity, cmap='viridis', vmin=-1, vmax=1)\n",
        "        ax.set_xticks([])\n",
        "        ax.set_yticks([])\n",
        "\n",
        "# fig.colorbar(im, ax=axes.ravel().tolist(), shrink=0.5, label=\"Cosine Similarity\")\n",
        "plt.suptitle(\"Cosine Similarity of Positional Embeddings for Each Patch\", fontsize=10)\n",
        "plt.subplots_adjust(wspace=0.1, hspace=0.1)\n",
        "plt.show()\n"
      ],
      "metadata": {
        "id": "VHRUKB3jWyzj",
        "colab": {
          "base_uri": "https://localhost:8080/",
          "height": 813
        },
        "outputId": "663edad3-25a3-4a67-9f6c-77daadc6585e"
      },
      "execution_count": 64,
      "outputs": [
        {
          "output_type": "display_data",
          "data": {
            "text/plain": [
              "<Figure size 1000x1000 with 49 Axes>"
            ],
            "image/png": "[encoded data removed]"
          },
          "metadata": {}
        }
      ]
    },
    {
      "cell_type": "markdown",
      "source": [
        "# viz attn map\n",
        "https://github.com/huggingface/pytorch-image-models/discussions/1232\n",
        "- https://arxiv.org/pdf/2005.00928\n",
        "\n",
        "\n",
        "## attention map\n",
        "Attention(Q, K) = softmax(QK^T / sqrt(d_k))\n",
        "this is the attention weight. (seq_len, seq_len) for me (50,50).\n",
        "\n",
        "##\n"
      ],
      "metadata": {
        "id": "rZfjY4ZCxCuc"
      }
    },
    {
      "cell_type": "code",
      "source": [
        "attention_maps = []\n",
        "batch = next(iter(val_loader))\n",
        "images, labels = batch[\"image\"], batch[\"label\"]\n",
        "model.eval()\n",
        "print(model(torch.rand((1,1,28,28)).to(device)).max(1), labels[0])\n",
        "print(f\"Number of attention maps (layers): {len(attention_maps)}\")\n",
        "print(f\"Shape of attention map for one layer: {attention_maps[0].shape}\")\n"
      ],
      "metadata": {
        "id": "5QC1erwpqUvR",
        "colab": {
          "base_uri": "https://localhost:8080/"
        },
        "outputId": "c37ed8c8-fdab-47be-a8cc-622acf2b0cb4"
      },
      "execution_count": 140,
      "outputs": [
        {
          "output_type": "stream",
          "name": "stdout",
          "text": [
            "torch.return_types.max(\n",
            "values=tensor([3.7377], grad_fn=<MaxBackward0>),\n",
            "indices=tensor([8])) tensor(8)\n",
            "Number of attention maps (layers): 8\n",
            "Shape of attention map for one layer: torch.Size([1, 8, 50, 50])\n"
          ]
        }
      ]
    },
    {
      "cell_type": "code",
      "source": [
        "import torch\n",
        "import numpy as np\n",
        "import matplotlib.pyplot as plt\n",
        "\n",
        "attention_map = attention_maps[0]\n",
        "attention_map = attention_map.squeeze(0)\n",
        "print(attention_map.shape)\n",
        "# Visualize\n",
        "plt.figure(figsize=(8, 8))\n",
        "plt.imshow(attention_map[0], cmap=\"viridis\")\n",
        "plt.colorbar(label=\"Raw Attention\")\n",
        "plt.title(\"Raw Attention\")\n",
        "plt.show()\n"
      ],
      "metadata": {
        "colab": {
          "base_uri": "https://localhost:8080/",
          "height": 676
        },
        "id": "Ltnz3lRW9FZl",
        "outputId": "5e5bbab8-8083-46ac-88b3-a86b62f7766d"
      },
      "execution_count": 141,
      "outputs": [
        {
          "output_type": "stream",
          "name": "stdout",
          "text": [
            "torch.Size([8, 50, 50])\n"
          ]
        },
        {
          "output_type": "display_data",
          "data": {
            "text/plain": [
              "<Figure size 800x800 with 2 Axes>"
            ],
            "image/png": "[encoded data removed]"
          },
          "metadata": {}
        }
      ]
    },
    {
      "cell_type": "code",
      "source": [
        "attentions = torch.stack(attention_maps)\n",
        "import torch\n",
        "import matplotlib.pyplot as plt\n",
        "\n",
        "# Assuming `attentions` has shape (num_layers, batch_size, n_heads, num_patches, num_patches)\n",
        "num_layers, batch_size, n_heads, num_patches, _ = attentions.shape\n",
        "\n",
        "# Average over heads: (num_layers, batch_size, n_heads, num_patches, num_patches) -> (num_layers, batch_size, num_patches, num_patches)\n",
        "average_attentions = attentions.mean(dim=2)\n",
        "print(f\"after avg {average_attentions.shape}\")\n",
        "\n",
        "# Initialize rollout attention with identity matrix\n",
        "rollout_attention = torch.eye(num_patches).unsqueeze(0).repeat(batch_size, 1, 1)\n",
        "print(f\"roll out {rollout_attention.shape}\")\n",
        "# Compute attention rollout\n",
        "for layer_attention in average_attentions:\n",
        "    # Add residual connection\n",
        "    layer_attention = layer_attention + torch.eye(num_patches).unsqueeze(0)\n",
        "    layer_attention = layer_attention / layer_attention.sum(dim=-1, keepdim=True)  # Normalize rows\n",
        "    rollout_attention = torch.matmul(rollout_attention, layer_attention)\n",
        "print(f\"roll out after recursive matmul {rollout_attention.shape}\")\n",
        "\n",
        "# Visualize the attention for the CLS token to input patches (assuming CLS token is at index 0)\n",
        "cls_attention = rollout_attention[0, :, :]  # Exclude CLS itself\n",
        "\n",
        "# Plot attention for the first sample in the batch\n",
        "plt.figure(figsize=(10, 10))\n",
        "plt.imshow(cls_attention.detach().cpu().numpy(), cmap=\"viridis\")\n",
        "plt.colorbar()\n",
        "plt.title(\"Attention Rollout Visualization\")\n",
        "plt.xlabel(\"Patches\")\n",
        "plt.ylabel(\"Patches\")\n",
        "plt.show()\n"
      ],
      "metadata": {
        "colab": {
          "base_uri": "https://localhost:8080/",
          "height": 756
        },
        "id": "ev93PzV_sfpA",
        "outputId": "46fb2f88-4cc1-4d6c-ddaf-d258cced15d4"
      },
      "execution_count": 142,
      "outputs": [
        {
          "output_type": "stream",
          "name": "stdout",
          "text": [
            "after avg torch.Size([8, 1, 50, 50])\n",
            "roll out torch.Size([1, 50, 50])\n",
            "roll out after recursive matmul torch.Size([1, 50, 50])\n"
          ]
        },
        {
          "output_type": "display_data",
          "data": {
            "text/plain": [
              "<Figure size 1000x1000 with 2 Axes>"
            ],
            "image/png": "[encoded data removed]"
          },
          "metadata": {}
        }
      ]
    },
    {
      "cell_type": "code",
      "source": [
        "import torch\n",
        "import matplotlib.pyplot as plt\n",
        "from torchvision.transforms.functional import resize\n",
        "\n",
        "# Assuming the input image has dimensions (H, W) and patch_size is known\n",
        "input_resolution = (28, 28)  # Replace with your actual input image resolution\n",
        "patch_size = 4  # Patch size used in ViT\n",
        "grid_size = (input_resolution[0] // patch_size, input_resolution[1] // patch_size)\n",
        "\n",
        "print(f\"cls {cls_attention.shape}\")\n",
        "\n",
        "# Reshape attention into the patch grid\n",
        "cls_attention_grid = rollout_attention[0,1:, 0].view(grid_size)\n",
        "\n",
        "# Upsample to input resolution\n",
        "from PIL import Image\n",
        "import torchvision.transforms as transforms\n",
        "\n",
        "import torchvision.transforms as transforms\n",
        "\n",
        "transform = transforms.Resize((28, 28), interpolation=Image.BILINEAR)\n",
        "transformed = transform(cls_attention_grid.unsqueeze(0)).squeeze(0).squeeze().detach().cpu().numpy()\n",
        "\n",
        "# Visualize attention overlaid on the original image\n",
        "plt.figure(figsize=(10, 10))\n",
        "plt.imshow(images[0].squeeze().detach().cpu().numpy(), cmap=\"gray\")\n",
        "plt.imshow(transformed, cmap='gray', alpha=0.9)\n",
        "plt.colorbar()\n",
        "plt.title(\"Attention on Original Image\")\n",
        "plt.xlabel(\"Width\")\n",
        "plt.ylabel(\"Height\")\n",
        "plt.show()\n"
      ],
      "metadata": {
        "colab": {
          "base_uri": "https://localhost:8080/",
          "height": 707
        },
        "id": "RaX2Ou2p3rlX",
        "outputId": "71e05b04-7578-4825-c136-af516cf38905"
      },
      "execution_count": 143,
      "outputs": [
        {
          "output_type": "stream",
          "name": "stdout",
          "text": [
            "cls torch.Size([50, 50])\n"
          ]
        },
        {
          "output_type": "display_data",
          "data": {
            "text/plain": [
              "<Figure size 1000x1000 with 2 Axes>"
            ],
            "image/png": "[encoded data removed]"
          },
          "metadata": {}
        }
      ]
    },
    {
      "cell_type": "code",
      "source": [],
      "metadata": {
        "id": "bvexfzqcj9Sk"
      },
      "execution_count": null,
      "outputs": []
    }
  ]
}